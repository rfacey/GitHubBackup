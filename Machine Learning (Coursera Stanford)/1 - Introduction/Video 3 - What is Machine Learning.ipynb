{
 "cells": [
  {
   "cell_type": "markdown",
   "metadata": {},
   "source": [
    "https://www.coursera.org/lecture/machine-learning/what-is-machine-learning-Ujm7v\n",
    "\n",
    "    Here's a definition of what is machine learning as due to Arthur Samuel. He defined machine learning as the field of study that gives computers the ability to learn without being explicitly learned. Samuel's claim to fame was that back in the 1950, he wrote a checkers playing program and the amazing thing aout this checkers playing program was that Arther Samnuel himself wasn't a very good checkers player. But what he did was he had to program maybe tens of thousands of games against himself, and by watching what sorts of board game positions tended to lead to wins and what sort of board postions tended to lead to losses, the checkers playing program learned over time what are good board positions and what was bad board positions. And eventually learned to play chckers better than Arthur Samuel himself. This is a womewhat informal definition and an older one.\n",
    "    Here's a slightly more recent defintion by Tom Mitchell who's a friend of Carnegie Melon. So Tom defines machine learning by saying that a well-posed learning problem is defined as follows. He says, a computer program is said to learn from experience E with respect to some task T and some performance measure P, if its performance on T, as measured by P, improves with experience E. I actually think he came out with this defintion to just make it rhyme. For the checkers playing exmaples, the experience E would be the experience of having the program play tens of thousands of games itself. The task T would be the task of playing checkers, and the performance measure P will be the probability that wins the next games of checkers against some new opponent. THrought these videos, besides me trying to teach you stuff, I'll occasionally ask you a question to make sure you understand the content.\n",
    "    Here's one. On top is a definition of machine learning by Tom Mitchell. Let's say your email program watches which emails you do or do not mark as spam. So in an email client like this, you mihgt click the Spam button to report some email as spam but not other emails. And based on which emails you mark as spam, say your email program learns better how to filter spam email. What is the task T in this setting? In a few seconds, the video will pause and when it does so, you can use your mouse to select one of these four radio buttons to let me know which of these four you think is the right answer to this question. So hopefully you got that this is the right answer, classifying emails is the task T. In fact, this definition defines a task T performance measure P and some experience T. And so, watching you label emails as spam or not spam, this would be the experience E and the fraction of emails correctly classified, that might be a performance measure P. And so on the task of systems performance, and the performance, on the performance measure P will improve after the experience E.\n",
    "    In this class, I hope to teach you about various different types of learning algorithms. There are several different types of learning algorithms. The main two types are what we call supervised and unsupervised learning. I'll define what these terms mean more in the next couple videos. It turns out that in supervised learning, the idea is we're going to teach the computer how to do something. Whereas in unsupervised learning, we're going to let it learn by itself. Don't worry if these two terms don't make sense yet. In the next two videos, I'm going to say exactly what these two type of learning are. You might also hear other ghost terms such as reinforcement learning and recommender systems. These are other types of machine learning algorithms that we'll talk about later. But the two most used types of learning algorithms are probably supervised learning and unsupervised learning. And I'll define them in the next two videos and we'll spend most of this class talking about these two types of learning algorithms. It turns out what are the other things to spend a lot of time on in this is practical advice for applying learening algorithms. This is something that I feel pretty strong about. And exactly something that I don't know if any other universities teach. Teaching about learning algorithms is like giving a set of tools. And equally important or more important that giving you the tools are teaching you to apply these tools. I like to make an analogy to leartning to becoming a carpenter. Imaging that someone is teaching you how to be a capenter, and they say, here's a hammer, here's a screwdriver, here's a saw, good luck. Well, that's no good. You have all these tools but the more important thing is to learn how to use these tools properly. There's a huge different between people that know how to use these machine learning algorithms, versus people that dont know how to use these tools well. Here, in Silicon Valley where I live, when I go visit different companies even at the top Silicon Valley companies, very often I see people trying to apply machine learning algorithms to some problem and something they have been going at it for six months. But something when I look at what they're doing, I say, I could have told them that htey shyould be taking a learning algorityhms and applying it in like the slightly modified way and your change of success would have been much higher.\n",
    "    So what we're going to do in this class is actually spend a lot of time talking about how if you're actually trying to develop a machine learning system, how to make those best pteractices type decisions about the way in which you build your system. So that when you're finally learning algorithms, you're less likely to end up on of those people who end up persuing something after six monthsthat someone else could have figured out was a waste of time for six months. So I'm acutally going to spend a lot of time teaching you those sorts of best practices in machine learning and AI and how to get the stuff to work and how the best people do it in Silicon Valley and around the world. I hope to make you one of the best people in knowing how to design and build servious machine learning and AI systems. So that's machine learning, and these aare the main topicas I hope to teach. In the next video, I'm going to define what is supervised learning and after that what is unsupervised learning. And also time to talk about when you would use each of them."
   ]
  },
  {
   "cell_type": "code",
   "execution_count": null,
   "metadata": {},
   "outputs": [],
   "source": []
  }
 ],
 "metadata": {
  "kernelspec": {
   "display_name": "Python 3",
   "language": "python",
   "name": "python3"
  },
  "language_info": {
   "codemirror_mode": {
    "name": "ipython",
    "version": 3
   },
   "file_extension": ".py",
   "mimetype": "text/x-python",
   "name": "python",
   "nbconvert_exporter": "python",
   "pygments_lexer": "ipython3",
   "version": "3.6.4"
  }
 },
 "nbformat": 4,
 "nbformat_minor": 2
}
