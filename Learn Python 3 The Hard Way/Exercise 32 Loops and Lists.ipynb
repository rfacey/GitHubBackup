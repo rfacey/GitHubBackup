{
 "cells": [
  {
   "cell_type": "markdown",
   "metadata": {},
   "source": [
    "# Loops and Lists\n",
    "\n",
    "You should now be able to do some programs that are much more interesting. If you have been keeping up, you should realize that now you can combine all the other things you have learned with if-statemnents and Boolean expressions to make your programs do smart things.\n",
    "\n",
    "However, programs also need to do repetitive things very quickly. We are going to use a for-loop in this exercise to build and print various lists. When you do the exercise, you will start to figure out what they are. I won't tell you right now. You have to figure it out.\n",
    "\n",
    "Before you can use a for-loop, you need a way to store the results of loops somewhere. The best way to do this is with lists. A list is exactly what the name says: a container of things that are organized in order from first to last. It's not complicated; you just have to learn a new syntax. First, here's how you make lists:\n",
    "\n",
    "    hairs = ['brown', 'blond', 'red']\n",
    "    eyes = ['brown', 'blue', 'green']\n",
    "    weights = [1, 2, 3, 4]\n",
    "\n",
    "You start the list with the [ (left bucket) which \"opens\" the list. Then you put each item you want in the list separated by commas, similar to function arguments. Lastly, end the list with a ] (right bracket) to indicate that it's over. Python then takes this list and all its contents and assigns them to the variable.\n",
    "\n",
    "Warning! This is where things get tricky for people who can't code. Your brain has been taught that the world is flat. Remember in the last exercise where you put if-statements inside if-statements? That probably made your brain hurt because most people do not ponder how to \"nest\" things inside things. In programming nested structures are all over the place. You will find functions that call other functions that have if-statements that have lists with lists inside lists. If you see a structure like this that you can't figure out, take out a pencil and paper and break it down manually bit by bit until you understand it.\n",
    "\n",
    "We now will build some lists using some for-loops and print them out:"
   ]
  },
  {
   "cell_type": "markdown",
   "metadata": {},
   "source": [
    "## What You Should See"
   ]
  },
  {
   "cell_type": "code",
   "execution_count": null,
   "metadata": {},
   "outputs": [],
   "source": []
  }
 ],
 "metadata": {
  "kernelspec": {
   "display_name": "Python 3",
   "language": "python",
   "name": "python3"
  },
  "language_info": {
   "codemirror_mode": {
    "name": "ipython",
    "version": 3
   },
   "file_extension": ".py",
   "mimetype": "text/x-python",
   "name": "python",
   "nbconvert_exporter": "python",
   "pygments_lexer": "ipython3",
   "version": "3.6.4"
  }
 },
 "nbformat": 4,
 "nbformat_minor": 2
}
