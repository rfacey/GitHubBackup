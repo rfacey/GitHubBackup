{
 "cells": [
  {
   "cell_type": "markdown",
   "metadata": {},
   "source": [
    "# What Do You Know So Far?\n",
    "\n",
    "There won't be any code in this exercise, so there's no What You Should See or Study Drills sections. In fact, this exercise is like one giant Study Drills. I'm going to have you do a review of what you have learned so far.\n",
    "\n",
    "First, go back through every exercise you have done so far and write down every word and symbol (another name for \"character\") that you have used. Make sure your list of symbols is complete.\n",
    "\n",
    "Next to each word or symbol, write its name and what it does. If you can't find a name for a symbol in this book, then look for it online. If you do not know what a word or symbol does, then read about it again and try using it in some code.\n",
    "\n",
    "You may run into a few things you can't find out or know, so just keep those on the list and be ready to look them up when you find them. \n",
    "\n",
    "Once you have your list, spend a few days rewriting the list and double-checking that it's correct. This may get boring, but push through and really nail it down.\n",
    "\n",
    "Once you have memorized the list and what they do, then step it up by writing out tables of symbols, their names, and what they do from memory. If you hit some you can't recall from memory, go back and memorize them again.\n",
    "\n",
    "WARNING! The most important thing when doing this exercise is, \"There is no failure, only trying.\"\n",
    "\n",
    "## What You Are Learning\n",
    "\n",
    "It's imprtant when you are doing a broing, mindless memorization exercise like this to know why. It helps you focus on a goal and know the purpose of all your efforts.\n",
    "\n",
    "In this exercise you are learning the names of symbols so that you can read source code more easily. It's similar to learning the alphabet and basic words of English, except this Python alphabet has extra symbols you might not know.\n",
    "\n",
    "Just take it slow and do not hurt your brain. It's best to take 15 minutes at a time with your list and then take a break. Giving your brain a rest will help you learn faster with less frustration."
   ]
  }
 ],
 "metadata": {
  "kernelspec": {
   "display_name": "Python 3",
   "language": "python",
   "name": "python3"
  },
  "language_info": {
   "codemirror_mode": {
    "name": "ipython",
    "version": 3
   },
   "file_extension": ".py",
   "mimetype": "text/x-python",
   "name": "python",
   "nbconvert_exporter": "python",
   "pygments_lexer": "ipython3",
   "version": "3.6.4"
  }
 },
 "nbformat": 4,
 "nbformat_minor": 2
}
