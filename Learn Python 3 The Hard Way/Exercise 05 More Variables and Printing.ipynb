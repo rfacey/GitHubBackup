{
 "cells": [
  {
   "cell_type": "markdown",
   "metadata": {},
   "source": [
    "## More Variables and Printing\n",
    "\n",
    "Now we'll do even more typing of variables and printing them out. This time we'll use something called a format string. Every time you put \" (double-quotes) around a piece of text of text you have been making a string. A string is how you make something that your program might give to a human. You print strings, save strings to files, send strings to web servers, among many other things.\n",
    "\n",
    "Strings are really handy, so in this exercise you will learn how to make strings that have variables embedded in them. You embed variables inside a string by using a special {} sequence and then put the variable you want inside the {} characters. You also must start the string with the letter f for \"format,\" as in f\"Hello {somevar}\". This little f before the \" (double-quote) and the {} characters tell Python 3, \"Hey, this string needs to be formatted. Put these variables in there.\"\n",
    "\n",
    "As usual, just type this in even if you do not understand it, and make it exactly the same."
   ]
  },
  {
   "cell_type": "code",
   "execution_count": 2,
   "metadata": {},
   "outputs": [
    {
     "name": "stdout",
     "output_type": "stream",
     "text": [
      "Let's talk about Zed A. Shaw.\n",
      "He's 74 inches tall.\n",
      "He's 180 pounds heavy.\n",
      "Actually that's not too heavy.\n",
      "He's got Blue eyes and Brown hair.\n",
      "His teeth are usually White depending on the coffee.\n",
      "If I add 35, 74, and 180 I get 289.\n"
     ]
    }
   ],
   "source": [
    "my_name = 'Zed A. Shaw'\n",
    "my_age = 35 # not a lie\n",
    "my_height = 74 # inches\n",
    "my_weight = 180 # lbs\n",
    "my_eyes = 'Blue'\n",
    "my_teeth = 'White'\n",
    "my_hair = 'Brown'\n",
    "\n",
    "print(f\"Let's talk about {my_name}.\")\n",
    "print(f\"He's {my_height} inches tall.\")\n",
    "print(f\"He's {my_weight} pounds heavy.\")\n",
    "print(\"Actually that's not too heavy.\")\n",
    "print(f\"He's got {my_eyes} eyes and {my_hair} hair.\")\n",
    "print(f\"His teeth are usually {my_teeth} depending on the coffee.\")\n",
    "\n",
    "# this line is tricky, try to get it exactly right\n",
    "total = my_age + my_height + my_weight\n",
    "print(f\"If I add {my_age}, {my_height}, and {my_weight} I get {total}.\")"
   ]
  },
  {
   "cell_type": "markdown",
   "metadata": {},
   "source": [
    "# Study Drills\n",
    "1. Change all the variables so there is no my_ in front of each one. Make sure you change the name everywhere, not just where you used = to set them.\n",
    "2. Try to write some variables that convert the inches and pounds to centimeters and kilograms. Do not just type in the measurements. Work the math out in Python."
   ]
  },
  {
   "cell_type": "code",
   "execution_count": 4,
   "metadata": {},
   "outputs": [
    {
     "name": "stdout",
     "output_type": "stream",
     "text": [
      "Let's talk about Zed A. Shaw.\n",
      "He's 187.96 centimeters tall.\n",
      "He's 81.64656 kilograms heavy.\n",
      "Actually that's not too heavy.\n",
      "He's got Blue eyes and Brown hair.\n",
      "His teeth are usually White depending on the coffee.\n",
      "If I add 35, 187.96, and 81.64656 I get 304.60656.\n"
     ]
    }
   ],
   "source": [
    "name = 'Zed A. Shaw'\n",
    "age = 35 # not a lie\n",
    "height_inches = 74 # inches\n",
    "height_cent = height_inches * 2.54\n",
    "weight = 180 # lbs\n",
    "weight_kilo = weight * 0.453592\n",
    "\n",
    "eyes = 'Blue'\n",
    "teeth = 'White'\n",
    "hair = 'Brown'\n",
    "\n",
    "print(f\"Let's talk about {name}.\")\n",
    "print(f\"He's {height_cent} centimeters tall.\")\n",
    "print(f\"He's {weight_kilo} kilograms heavy.\")\n",
    "print(\"Actually that's not too heavy.\")\n",
    "print(f\"He's got {eyes} eyes and {hair} hair.\")\n",
    "print(f\"His teeth are usually {teeth} depending on the coffee.\")\n",
    "\n",
    "# this line is tricky, try to get it exactly right\n",
    "total = age + height_cent + weight_kilo\n",
    "print(f\"If I add {age}, {height_cent}, and {weight_kilo} I get {total}.\")"
   ]
  },
  {
   "cell_type": "markdown",
   "metadata": {},
   "source": [
    "# Common Student Questions\n",
    "\n",
    "- Q: Can I make a variable like like: 1 = 'Zed Shaw'? A: No, 1 is not a valid variable name. They need to start with a character, so a1 would work, but 1 will not.\n",
    "- Q: How can I round a floating point number? A: You can use the round() function like this: rount(1.7333).\n",
    "- Q: Why does this not make sense to me? A: Try making the numbers in this script your measurements. It's weird, but talking about yourself will make it seem more real. Also, you're just starting out so it won't make too much sense. Keep going and more exercises will explain it more."
   ]
  }
 ],
 "metadata": {
  "kernelspec": {
   "display_name": "Python 3",
   "language": "python",
   "name": "python3"
  },
  "language_info": {
   "codemirror_mode": {
    "name": "ipython",
    "version": 3
   },
   "file_extension": ".py",
   "mimetype": "text/x-python",
   "name": "python",
   "nbconvert_exporter": "python",
   "pygments_lexer": "ipython3",
   "version": "3.6.4"
  }
 },
 "nbformat": 4,
 "nbformat_minor": 2
}
