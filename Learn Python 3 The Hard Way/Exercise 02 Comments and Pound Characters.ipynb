{
 "cells": [
  {
   "cell_type": "markdown",
   "metadata": {},
   "source": [
    "# Comment and Pound Characters\n",
    "\n",
    "Comments are very important in your programs. They are used to tell you what something does in English, and they are used to disable parts of your program if you need to remove them temporarily. Here's how you use comments in Python:"
   ]
  },
  {
   "cell_type": "code",
   "execution_count": 1,
   "metadata": {},
   "outputs": [
    {
     "name": "stdout",
     "output_type": "stream",
     "text": [
      "I could have code like this.\n",
      "This will run.\n"
     ]
    }
   ],
   "source": [
    "# A comment, this is so you can read your program later.\n",
    "# Anything after the # is ignored by python.\n",
    "\n",
    "print(\"I could have code like this.\") # and the comment after is ignored\n",
    "\n",
    "# You can also use a comment to \"disable\" or comment out code:\n",
    "# print(\"This won't run.\")\n",
    "\n",
    "print(\"This will run.\")"
   ]
  },
  {
   "cell_type": "markdown",
   "metadata": {},
   "source": [
    "From now on, I'm going to write code like this. It is important for you to understand that everything does not have to be literal. Your screen and program may visually look different, but what's important is the text you type into the file you're writing in your text editor. In fact, I could work with any text editor and the results would be the same.\n",
    "\n",
    "# What You Should See\n",
    "\n",
    "Again, I'm not going to show you screenshots of all the Terminals possible. You should understand that the preceding is not a literal translation of what your output should look like visually, but the text between the first \\$ python3.6 ... and the last $ lines willbe what you focus on.\n",
    "\n",
    "# Study Drills\n",
    "1. Find out if you were right about what the # character does and make sure you know what it's called (octothorpe or pound character).\n",
    "2. Take your ex2.py life and review each line going backward. Start at the last line, and check each word in reverse against what you should have typed.\n",
    "3. Did you find more mistakes? Fix them.\n",
    "4. Reach what you typed above out loud, including saying each character by its name. Did you find more mistakes? Fix them.\n",
    "\n",
    "# Common Student Questions\n",
    "\n",
    "Q. Are you sure # is called the pound character? A: I call it the octothorpe because that is the only name that no one country uses and that works in every country. Every country thinks its name for this one character is both the most important way to do it and the only way it's done. To me this is simply arrogance and, really, y'all should just chill out and focus on more important things like learning to code.\n",
    "\n",
    "Q: What does the # in print (\"Hi # there.\") not get ignored? A: The # in that code is inside a string, so it will be put into the string until the ending \" character is hit. Pound characters in strings are just considered characters, not comments.\n",
    "\n",
    "Q: How do I commend out multiple lines? A: Put a # in front of each one.\n",
    "\n",
    "Q: I can't figure out how to type a # character on my country's keyboard. How do I do that? A: Some countries use the ALT key and combinations of other keys to print characters foreign to their language. You'll have to look online in a search engine to see how to type it.\n",
    "\n",
    "Q: Why do I have to read code backward? A: It's a trick to make your brain not attach meaning to each part of the code, and doing that makes you process each piece exactly. This is a handy error-checking technique."
   ]
  }
 ],
 "metadata": {
  "kernelspec": {
   "display_name": "Python 3",
   "language": "python",
   "name": "python3"
  },
  "language_info": {
   "codemirror_mode": {
    "name": "ipython",
    "version": 3
   },
   "file_extension": ".py",
   "mimetype": "text/x-python",
   "name": "python",
   "nbconvert_exporter": "python",
   "pygments_lexer": "ipython3",
   "version": "3.6.4"
  }
 },
 "nbformat": 4,
 "nbformat_minor": 2
}
