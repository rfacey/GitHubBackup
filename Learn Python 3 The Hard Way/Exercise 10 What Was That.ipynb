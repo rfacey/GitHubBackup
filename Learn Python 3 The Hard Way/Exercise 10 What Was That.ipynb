{
 "cells": [
  {
   "cell_type": "markdown",
   "metadata": {},
   "source": [
    "# What Was That?\n",
    "\n",
    "In Exercise 9 I threw you some new stuff, just to keep you on your toes. I showed you two ways to make a string that goes across multiple lines. I put the characters \\n (backslash n) between the names of the months. These two characters put a new line character into the string at that point.\n",
    "\n",
    "This \\ (backslash) character encodes difficult-to-type characters into a string. There are various escape sequences available for different characters you might want to use. We'll try a few of these sequences so you can see what I mean.\n",
    "\n",
    "An important escape sequence is to escape the single-quote (') or double-quote (\"). Imagine you have a string that uses double-quotes and you want to put a double-quote inside the string. If you write \"I \"understand\" joke.\" the Python will get confused because it will thing the double-quote insdie the string isn't a real double-quote.\n",
    "\n",
    "To solve this problem you escape double-quotes and single-quotes so Python knows to include them in the string. Here's an exmaple:\n",
    "\n",
    "    \"I am 6'2\\\" tall.\" # escape double−quote inside string\n",
    "    'I am 6\\'2\" tall.' # escape single−quote inside string\n",
    "\n",
    "The second way is by using triple-quotes, which is just \"\"\" and works like a string, but you also can put as many lines of text as you want until you type \"\"\" again. We'll also play with these."
   ]
  },
  {
   "cell_type": "code",
   "execution_count": null,
   "metadata": {},
   "outputs": [],
   "source": []
  }
 ],
 "metadata": {
  "kernelspec": {
   "display_name": "Python 3",
   "language": "python",
   "name": "python3"
  },
  "language_info": {
   "codemirror_mode": {
    "name": "ipython",
    "version": 3
   },
   "file_extension": ".py",
   "mimetype": "text/x-python",
   "name": "python",
   "nbconvert_exporter": "python",
   "pygments_lexer": "ipython3",
   "version": "3.6.4"
  }
 },
 "nbformat": 4,
 "nbformat_minor": 2
}
