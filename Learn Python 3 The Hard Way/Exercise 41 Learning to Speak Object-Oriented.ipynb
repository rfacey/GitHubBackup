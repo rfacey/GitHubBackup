{
 "cells": [
  {
   "cell_type": "markdown",
   "metadata": {},
   "source": [
    "# Learning to Speak Object-Oriented\n",
    "\n",
    "in this exercise I'm going to teach you how to speak \"object-oriented.\" What I'll do is give you a small set of words with definitions you need to know. Then I'll give you a set of sentences with holes in them that you'll have to understand. Finally, I'm going to give you a large set of exercises that you have to complete to make these sentences solid in your vocabulary.\n",
    "\n",
    "## Word Drills\n",
    "\n",
    "- class: Tell Python to make a new type of thing.\n",
    "- object: Two meanings. The most basic type of thing, and any instance of some thing.\n",
    "- instance: What you get when you tell Python to create a clas.\n",
    "- def: How you define a function inside a class.\n",
    "- self: Inside the functions in a class, self is a variable for the instance/object being accessed.\n",
    "- inheritance: The concept that one class can inherit traits from another class, much like you and parents.\n",
    "- composition: The concept that a class can be composed of other classes as parts, much like how a car has wheels.\n",
    "- attribute: A property classes have that are from composition and are usually variables.\n",
    "- is-a: A phrase to say that something inherits from another, as in a \"salmon\" is-a \"fish.\"\n",
    "- has-a: A phrase to say that something is composed of other things or has a trait, as in \"a salmon has-a mouth.\"\n",
    "\n",
    "Take some time to make flash cards for these terms and memorize them. As usual, this won't make too much sense until after you are finished with this exercise, but you need to know the base words first.\n",
    "\n",
    "## Phrase Drills\n",
    "\n",
    "Next I have a list of Python code snippets on the left, and the English sentences for them:\n",
    "\n",
    "- classX(Y): \"Make a class named X that is-a Y\"\n",
    "- classX(object): def__init__(self, J): \"class X has-a __init__ that takes self and J parameters.\"\n",
    "- classX(object): def M(self, J): \"class X has-a function named M that takes self and J parameters.\"\n",
    "- foo = X(): \"Set foo to an instance of class X.\"\n",
    "- foo.M(J): \"From foo, get the M function, and call it parameters self, J.\"\n",
    "- foo.K=Q: \"From foo, get the K attribute, and set it to Q.\"\n",
    "\n",
    "In each of these, where you see X, Y, M, J, K, Q, and foo, you can treat those like blank spots. For example, I can also write these sentences as follows:\n",
    "\n",
    "1. \"Make a class named ??? that is-a Y.\"\n",
    "2. \"class ??? has-a __init__ that takes self and ??? parameters.\"\n",
    "3. \"class ??? has-a function named ??? that takes self and ??? parameters.\"\n",
    "4. \"Set ??? to an instance of class ???.\"\n",
    "5. \"From ???, get the ??? function, and call it with self=??? and parameters ???.\"\n",
    "6. \"From ???, get the ??? attribute, and set it to ???.\"\n",
    "\n",
    "Again, write these on some flash cards and drill them. Put the Python code snippet on the front and the sentence on the back. You have to be able to say the sentence exactly the same every time whenever you see that form. Not sort of the same, but exactly the same.\n",
    "\n",
    "## Combined Drills\n",
    "\n",
    "The final preparation for you is to combine hte words drills with the phrase drills. What I want you to do for this drill is this:\n",
    "\n",
    "1. Take a phrase card and drill it.\n",
    "2. Flip it over and read the sentence, and for each word in the sentence that is in your words drills, get the card.\n",
    "3. Drill those words for that sentence.\n",
    "4. Keep going until you are bored, then take a break and do it again/\n",
    "\n",
    "## A Reading Test\n",
    "\n",
    "I now have a little Python hack script that will drill you on these words you know in an infinite manner. This is a simple script you should be able to figure out, and the only thing that does is use a library called \"urllib\" to download a list of words I have. Here's the script, which you should enter into oop_test.py to work with it:"
   ]
  },
  {
   "cell_type": "code",
   "execution_count": 1,
   "metadata": {},
   "outputs": [],
   "source": []
  }
 ],
 "metadata": {
  "kernelspec": {
   "display_name": "Python 3",
   "language": "python",
   "name": "python3"
  },
  "language_info": {
   "codemirror_mode": {
    "name": "ipython",
    "version": 3
   },
   "file_extension": ".py",
   "mimetype": "text/x-python",
   "name": "python",
   "nbconvert_exporter": "python",
   "pygments_lexer": "ipython3",
   "version": "3.6.4"
  }
 },
 "nbformat": 4,
 "nbformat_minor": 2
}
