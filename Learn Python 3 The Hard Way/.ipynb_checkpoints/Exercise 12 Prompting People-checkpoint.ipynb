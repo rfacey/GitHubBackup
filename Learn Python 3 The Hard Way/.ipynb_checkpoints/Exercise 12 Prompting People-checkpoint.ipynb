{
 "cells": [
  {
   "cell_type": "markdown",
   "metadata": {},
   "source": [
    "# Prompting People\n",
    "\n",
    "When you typed input() you were typing the ( and ) characters, which are parenthesis characters. This is similar to when you used them to do a format with extra variables, as in f\"{x} {y}\". For input you can also put in a prompt to show to a person so he knows what to type. Put a string that you want for the prompt inside the ( ) so that it looks like this:\n",
    "\n",
    "    y = input(\"Name? \")\n",
    "\n",
    "This prompts the user with \"Name?\" and puts the result into the variable y. This is how you ask someone a question and get the answer.\n",
    "\n",
    "This means we can completely rewrite our previous exercise using just input to do all the prompting."
   ]
  },
  {
   "cell_type": "code",
   "execution_count": 1,
   "metadata": {},
   "outputs": [
    {
     "name": "stdout",
     "output_type": "stream",
     "text": [
      "How old are you? 28\n",
      "How tall are you? 5.6\n",
      "How much do you weight? 135\n",
      "So, you're 28 old, 5.6 tall and 135 heavy.\n"
     ]
    }
   ],
   "source": [
    "age = input(\"How old are you? \")\n",
    "height = input(\"How tall are you? \")\n",
    "weight = input(\"How much do you weight? \")\n",
    "\n",
    "print(f\"So, you're {age} old, {height} tall and {weight} heavy.\")"
   ]
  },
  {
   "cell_type": "markdown",
   "metadata": {},
   "source": [
    "## Study Drills\n",
    "\n",
    "1. In Terminal, where you normally run python3.6 to run your scripts, type pydoc input. Read what it says. If you're on Windows type python3.6 - m pydoc instead.\n",
    "2. Get out of pydoc by typing q to quit.\n",
    "3. Look online for what the pydoc command does.\n",
    "4. Use pydoc to also read about open, file, os, and sys. It's alright if you do not understand those; just read through and take notes about interesting things.\n",
    "\n",
    "## Common Student Questions\n",
    "\n",
    "- Q: How come I get SyntaxError: invalid syntax whenever I run pydoc? A: You aren't running pydoc from the command line; you're probably running it from inside python3.6. Exit out of python3.6 first.\n",
    "- Q: Why does my pydoc not pause like yours does? A: Sometimes if the help document is short enough to fit on one screen then pydoc will just print it.\n",
    "- Q: When I run pyydoc I got more is not recognized as an internal. A: Some versions of Windows do not ahve that command, which means pydoc is broken for you. You can skip this Study Drill and just search online for Python documentation when you need it.\n",
    "- Q: Why can't I do print(\"How old are you?\" , input())? A: You can, but then the result of calling input() is never saved to a variable, and it'll work in a strange way. Try this,m and then try to print out what you type. See if you can debug why this isn't working."
   ]
  }
 ],
 "metadata": {
  "kernelspec": {
   "display_name": "Python 3",
   "language": "python",
   "name": "python3"
  },
  "language_info": {
   "codemirror_mode": {
    "name": "ipython",
    "version": 3
   },
   "file_extension": ".py",
   "mimetype": "text/x-python",
   "name": "python",
   "nbconvert_exporter": "python",
   "pygments_lexer": "ipython3",
   "version": "3.6.4"
  }
 },
 "nbformat": 4,
 "nbformat_minor": 2
}
