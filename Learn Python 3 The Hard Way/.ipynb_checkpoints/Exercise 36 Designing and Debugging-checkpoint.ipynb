{
 "cells": [
  {
   "cell_type": "markdown",
   "metadata": {},
   "source": [
    "# Designing and Debugging\n",
    "\n",
    "Now that you know if-statmements, I'm going to give you some rules for for-loops and while-loops that will keep you out of trouble. I'm also going to give you some tips on debugging so that you can figure out problems with your program. Finally, you will design a little game similar to the last exercise but with a slight twist.\n",
    "\n",
    "## Rules for if-statements\n",
    "\n",
    "1. Every if-statement must have an else.\n",
    "2. If this else should never run because it doesn't make sense, then you must use a 'die' function in the else that prints out an error message and dies, just like we did in the last exercise. This will find many errors.\n",
    "3. Never nest if-statements more than two deep and always try to do them on deep.\n",
    "4. Treat if-statements like paragraphs, where each if-elif-else grouping is like a set of sentences. Put blank lines before and after.\n",
    "5. Your Boolean tests should be simple. If they are complex, move their calculations to variables earlier in your functions and use a good name for the variable.\n",
    "\n",
    "If you follow these simple rules, you will start writing better code than most programmers. Go back to the last exercise and see if I followed all these rules. If not, fix my mistakes.\n",
    "\n",
    "Warning! Never be a slave to the rules in real life. For training purposes you need to follow these rules to make your mind strong, but in real life sometimes these rules are just stupid. If you think a rule is stupid, try not using it.\n",
    "\n",
    "## Rules for Loops\n",
    "\n",
    "1. Use a while-loop only to loop forever, and that means probably never. This only applies to Python; other languages are different.\n",
    "2. Use a for-loop for all other kinds of looping, especially if there is a fixed or limited number of things to loop over.\n",
    "\n",
    "## Tips for Debugging\n",
    "\n",
    "1. Do not use a \"debugger.\" A debugger is like doing a full-body scan on a sick person. You do not get any specific useful information, and you find a whole lot of information that doesn't help and is just confusing.\n",
    "2. The best way to debug a program is to use 'print' to print out the values of variables at points in the program to see where they go wrong.\n",
    "3. Make sure parts of your programs work as you work on them. Do not write massive files of code before you try to run them. Code a little, run a little, fix a little.\n",
    "\n",
    "## Homework\n",
    "\n",
    "Now write a game similar to the one that I created in the last exercise. It can be any kind of game you want in the same flavor. Spend a week on it making it as interesting as possible. For Study Drills, use lists, functions, and modules (remember those from Exercise 13?) as much as possible, and find as many new pieces of Python as you can to make the game work.\n",
    "\n",
    "Before you start coding you must draw a map for your gram. Create the rooms, monsters, and traps that the player must go through on paper before you code.\n",
    "\n",
    "Once you have your map, try to code it up. If you find problems with the map then adjust it and make the code match.\n",
    "\n",
    "The best way to work on a piece of software is in small chunks like this:\n",
    "\n",
    "1. On a sheet of paper or an idex card, write a list of tasks you need to complete to finish the software. This is your to-do list.\n",
    "2. Pick the easiest thing you can do from your list.\n",
    "3. Write out English comments in your source file as a guide for how you would accomplish this task in your code.\n",
    "4. Write some of the code under the English comments.\n",
    "5. Quickly run your script to see if that code worked.\n",
    "6. Keep working in a cycle of writing some code, running it to test it, and fixing it until it works.\n",
    "7. Cross this task off your list, then pick your next easiest task and repeat it.\n",
    "\n",
    "This process will help you work on software in a methodical and consistent manner. As you work, update your list by removing tasks you don't really need and adding ones you do."
   ]
  }
 ],
 "metadata": {
  "kernelspec": {
   "display_name": "Python 3",
   "language": "python",
   "name": "python3"
  },
  "language_info": {
   "codemirror_mode": {
    "name": "ipython",
    "version": 3
   },
   "file_extension": ".py",
   "mimetype": "text/x-python",
   "name": "python",
   "nbconvert_exporter": "python",
   "pygments_lexer": "ipython3",
   "version": "3.6.4"
  }
 },
 "nbformat": 4,
 "nbformat_minor": 2
}
