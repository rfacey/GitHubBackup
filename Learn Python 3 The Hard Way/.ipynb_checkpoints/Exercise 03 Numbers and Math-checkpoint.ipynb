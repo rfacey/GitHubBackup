{
 "cells": [
  {
   "cell_type": "markdown",
   "metadata": {},
   "source": [
    "# Numbers and Math\n",
    "\n",
    "Every programming language has some kind of way of doing numbers and math. Do not worry: programmers frequently lie about being math geniuses when they really aren't. If they were match geniuses, they would be doing math, not writing buggy web frameworks so they can drive race cars.\n",
    "\n",
    "This exercise has lots of math symbols. Let's name them right away so you know what they are called. As you type this one in, say the name. When saying them feels boring you can stop saying them. Here are the names:\n",
    "\n",
    "- +: plus\n",
    "- -: minus\n",
    "- /: slash\n",
    "- *: asterisk\n",
    "- %: percent\n",
    "- <: less-than\n",
    "- \\>: greater-than\n",
    "- <=: less-than-equal\n",
    "- \\>=: greater-than-equal\n",
    "\n",
    "Notice how the operations are missing? After you type in the code for this exercise, go back and figure out what each of those does and complete the table. For example, + does addition."
   ]
  },
  {
   "cell_type": "code",
   "execution_count": 2,
   "metadata": {},
   "outputs": [
    {
     "name": "stdout",
     "output_type": "stream",
     "text": [
      "I will now count my chickens:\n",
      "Hens 30.0\n",
      "Roosters 97\n",
      "Now I will count the eggs:\n",
      "6.75\n",
      "Is it true that 3 + 2 < 5 - 7?\n",
      "False\n",
      "What is 3 + 2? 5\n",
      "What is 5 - 7? -2\n",
      "Oh, that's why it's False.\n",
      "How about some more.\n",
      "Is it greater? True\n",
      "Is it greater or equal? True\n",
      "Is it less or equal? False\n"
     ]
    }
   ],
   "source": [
    "print(\"I will now count my chickens:\")\n",
    "\n",
    "print(\"Hens\", 25 + 30 / 6)\n",
    "print(\"Roosters\", 100 - 25 * 3 % 4)\n",
    "\n",
    "print(\"Now I will count the eggs:\")\n",
    "\n",
    "print(3 + 2 + 1 - 5 + 4 % 2 - 1 / 4 + 6)\n",
    "\n",
    "print(\"Is it true that 3 + 2 < 5 - 7?\")\n",
    "\n",
    "print(3 + 2 < 5 - 7)\n",
    "\n",
    "print(\"What is 3 + 2?\", 3 + 2)\n",
    "print(\"What is 5 - 7?\", 5 - 7)\n",
    "\n",
    "print(\"Oh, that's why it's False.\")\n",
    "\n",
    "print(\"How about some more.\")\n",
    "\n",
    "print(\"Is it greater?\", 5 > -2)\n",
    "print(\"Is it greater or equal?\", 5 >= -2)\n",
    "print(\"Is it less or equal?\", 5 <= -2)"
   ]
  },
  {
   "cell_type": "markdown",
   "metadata": {},
   "source": [
    "## Study Drills\n",
    "\n",
    "1. Above each line, use the # to write a comment to yourself explaining what the line does.\n",
    "2. Remember in Exercise 0 when you started python 3.6? Start python3.6 this way again and, using the math operators, use Python as a calculator.\n",
    "3. Find something you need to calculate and write a new .py file that does it.\n",
    "4. Rewrite ex3.py to use floating point numbers so it's more accurate. 20.0 is floating point.\n",
    "\n",
    "## Common Student Questions\n",
    "\n",
    "Q: Why is the % character a \"modulus\" and not a \"percent\"? A: Mostly, that's just how the designers chose to use that symbol. In normal writing you are correct to read it as a \"percent.\" In programming this calculation is typically done with simple division and the / operator. The % modulus is a different operation that just happens to use the % symbol.\n",
    "\n",
    "Q: How does % work? A: Another way to say ist is, \"X divided by Y with J remaining.\" For example, \"100 divided by 16 with 4 remaining.\" The result of % is the J part, or the remaining part.\n",
    "\n",
    "Q: What is the order of operations? A: In the United States, we use an acronym called PEMDAS which stands for Parentheses Exponents Multiplication Division Addition Substraction. That's the order Python follows as well. The mistake people make with PEMDAS is to think this is a strict order, as in \"Do P, then E, then M, then D, then A, then S.\" The actual order is you do the multiplication and division (M&D) in one step, from left to right, then you do the addition and subtraction in one step from left to right. So, you could rewrite PEMDAS as PE(M&D)(A&S)."
   ]
  }
 ],
 "metadata": {
  "kernelspec": {
   "display_name": "Python 3",
   "language": "python",
   "name": "python3"
  },
  "language_info": {
   "codemirror_mode": {
    "name": "ipython",
    "version": 3
   },
   "file_extension": ".py",
   "mimetype": "text/x-python",
   "name": "python",
   "nbconvert_exporter": "python",
   "pygments_lexer": "ipython3",
   "version": "3.6.4"
  }
 },
 "nbformat": 4,
 "nbformat_minor": 2
}
