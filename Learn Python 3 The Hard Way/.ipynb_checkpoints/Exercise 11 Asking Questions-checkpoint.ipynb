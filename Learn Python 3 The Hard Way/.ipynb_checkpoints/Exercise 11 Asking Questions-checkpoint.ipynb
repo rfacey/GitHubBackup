{
 "cells": [
  {
   "cell_type": "markdown",
   "metadata": {},
   "source": [
    "# Asking Questions\n",
    "\n",
    "Now it is time to pick up the pace. You are doing a lot of printing to get you familiar with typing simple things, but those simple things are fairly boring. What we want to do now is get data into your programs. This is a little tricky because you have to learn to do two things that may not make sense right away, but trust me and do it anyway. It will make sense in a few exercises.\n",
    "\n",
    "Most of what software does is the following:\n",
    "\n",
    "1. Takes some kind of input from a person.\n",
    "2. Changes it.\n",
    "3. Prints out something to show how it changed.\n",
    "\n",
    "So far you have been printing strings, but you haven't been able to get any input from a person. You may not even know what \"input\" means, but type this code in anyway and make it exactly the same. In the next exercise we'll do more to explain input."
   ]
  },
  {
   "cell_type": "code",
   "execution_count": 1,
   "metadata": {},
   "outputs": [
    {
     "name": "stdout",
     "output_type": "stream",
     "text": [
      "How old are you? 28\n",
      "How tall are you? 5.6\n",
      "How much do you weigh? 135\n",
      "So, you're 28 old, 5.6 tall and 135 heavy.\n"
     ]
    }
   ],
   "source": [
    "print(\"How old are you?\", end = ' ')\n",
    "age = input()\n",
    "print(\"How tall are you?\", end = ' ')\n",
    "height = input()\n",
    "print(\"How much do you weigh?\", end = ' ')\n",
    "weight = input()\n",
    "\n",
    "print(f\"So, you're {age} old, {height} tall and {weight} heavy.\")"
   ]
  },
  {
   "cell_type": "markdown",
   "metadata": {},
   "source": [
    "## Study Drills\n",
    "\n",
    "1. Go online and find out what Python's input does.\n",
    "2. Can you find other ways to use it? Try some of the samples you find.\n",
    "3. Write another \"form\" like this to ask some other questions.\n",
    "\n",
    "## Common Student Questions\n",
    "\n",
    "- Q: How do I get a number from someone so I can do math? A: That's a little advanced, but try x = int(input()), which gets the number as a string from input(), then converts it to an integer using int().\n",
    "\n",
    "- Q: I put my height into raw input like this input(\"6'2\") but it doesn't work. A: Don't put your height in there; type it directly into your Terminal. First, go back and make the code exactly like mine. Next, run the script, and when it pauses, type your height in at your keyboard. That's all there is to it."
   ]
  }
 ],
 "metadata": {
  "kernelspec": {
   "display_name": "Python 3",
   "language": "python",
   "name": "python3"
  },
  "language_info": {
   "codemirror_mode": {
    "name": "ipython",
    "version": 3
   },
   "file_extension": ".py",
   "mimetype": "text/x-python",
   "name": "python",
   "nbconvert_exporter": "python",
   "pygments_lexer": "ipython3",
   "version": "3.6.4"
  }
 },
 "nbformat": 4,
 "nbformat_minor": 2
}
