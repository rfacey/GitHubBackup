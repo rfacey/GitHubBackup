{
 "cells": [
  {
   "cell_type": "markdown",
   "metadata": {},
   "source": [
    "# Strings and Text\n",
    "\n",
    "While you have been writing strings, you still do not know what they do. In this exercise we create a bunch of variables with complex strings so you can see what they are for. First an explanation of strings.\n",
    "\n",
    "A strings is usually a bit of text you want to display to someone or \"export\" out of the program you are writing. Python knows you want something to be a string when you put either \" (double-quotes) or ' (single-quotes) around the text. You saw this many times with your use of print when you put the text you want to go inside the string inside \" or ' after the print to print the string.\n",
    "\n",
    "Strings can contain any number of variables that are in your Python script. Remember that a variable is any line of code where you set a name = (equal) to a value. In the code for this exercise, types_of_people = 10 creates a variable named types_of_people and sets it = (equal) to 10. You can put that in any string with {types_of_people}. You also see that I have to use a special type of string to \"format\"; it's called an \"f-string\" and looks like this:\n",
    "\n",
    "    f\"some stuff here {avariable}\"\n",
    "    f\"some other stuff {anothervar}\"\n",
    "\n",
    "Python also has another kind of formatting using the .format() syntax, which you see on line 17. You'll see me use that sometimes when I want to apply a format to an already-created string, such as in a loop. We'll cover that more later.\n",
    "\n",
    "We will now type in a whole bunch of strings, variables, and format, and print them. We will also practice using short, abbreviated variable names. Programmers love saving time at your expense by using annoyingly short and cryptic variable names, so let's get you started reading and writing them early on."
   ]
  },
  {
   "cell_type": "code",
   "execution_count": 1,
   "metadata": {},
   "outputs": [
    {
     "name": "stdout",
     "output_type": "stream",
     "text": [
      "There are 10 types of people.\n",
      "Those who know binary and those who don't.\n",
      "I said: There are 10 types of people.\n",
      "I also said: 'Those who know binary and those who don't.'\n",
      "Isn't that joke so funny?! False\n",
      "This is the left side of...a string with a right side.\n"
     ]
    }
   ],
   "source": [
    "types_of_people = 10\n",
    "x = f\"There are {types_of_people} types of people.\"\n",
    "\n",
    "binary = \"binary\"\n",
    "do_not = \"don't\"\n",
    "y = f\"Those who know {binary} and those who {do_not}.\"\n",
    "\n",
    "\n",
    "print(x)\n",
    "print(y)\n",
    "\n",
    "print(f\"I said: {x}\")\n",
    "print(f\"I also said: '{y}'\")\n",
    "\n",
    "hilarious = False\n",
    "joke_evaluation = \"Isn't that joke so funny?! {}\"\n",
    "print(joke_evaluation.format(hilarious))\n",
    "\n",
    "w = \"This is the left side of...\"\n",
    "e = \"a string with a right side.\"\n",
    "\n",
    "print(w + e)"
   ]
  },
  {
   "cell_type": "markdown",
   "metadata": {},
   "source": [
    "## Study Drills\n",
    "\n",
    "1. Go through this program and write a comment above each line explaining it.\n",
    "2. Find all the places where a string is put inside a string. There are four places.\n",
    "3. Are you use there are only four places? How do you know? Maybe I like lying.\n",
    "4. Explain why adding the two strings w and e with + makes a longer string.\n",
    "\n",
    "## Break It\n",
    "\n",
    "You are now at a point where you can try to break your code to see what happens. Think of this as a game to devise the most clever way to break the code. You can also find the simplest way to break it. Once you break the code, you then need to fix it. If you have a friend, then the two of you can try to break each other's code and fix it. Give your friend your ex6.py file so they can break something. Then you try to find their error and fix it. Have fun with this, and remember that if you  wrote this code once you can do it again. If you take your damage too far, you can always type it in again for extra practice.\n",
    "\n",
    "## Common Student Questions\n",
    "\n",
    "Q: Why do you put ' (single-quotes) around some strings and not others? A: Mostly it's because of style, but I'll use a single-quote inside a string that has double-quotes inside a string that has double-quotes. Look at lines 6 and 15 to see how I'm doing that.\n",
    "Q: If you thought the joke was funny could you write hilarious = True? A: Yes, and you'll lean more about these boolean values in Exercise 27."
   ]
  }
 ],
 "metadata": {
  "kernelspec": {
   "display_name": "Python 3",
   "language": "python",
   "name": "python3"
  },
  "language_info": {
   "codemirror_mode": {
    "name": "ipython",
    "version": 3
   },
   "file_extension": ".py",
   "mimetype": "text/x-python",
   "name": "python",
   "nbconvert_exporter": "python",
   "pygments_lexer": "ipython3",
   "version": "3.6.4"
  }
 },
 "nbformat": 4,
 "nbformat_minor": 2
}
