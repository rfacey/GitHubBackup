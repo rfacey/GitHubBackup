{
 "cells": [
  {
   "cell_type": "markdown",
   "metadata": {},
   "source": [
    "# Modules, Classes, and Objects\n",
    "\n",
    "Python is called an \"obect-oriented programming language.\" This means there is a construct in Python called a class that lets you structure your software in a particular way. Using classes, you can add consistency to your programs so that they can be used in a cleaner way. At least that's the theory.\n",
    "\n",
    "I am now going to teach you the beginnings of object-oriented programming, classes, and objects using what you already know about dictionaries and modules. My problem is that object-oriented programming (OOP) is just plain weird. You have to struggle with this, try to understand what I say here, type in the code, and in the next exercise I'll hammer it in.\n",
    "\n",
    "Here we go.\n",
    "\n",
    "## Modules Are Like Dictionaries\n",
    "\n",
    "You know how a dictionary is created and used and that is a way to map one thing to another. That means if you have a dictionary with a key \"apple\" and you want to get it then you do this:"
   ]
  },
  {
   "cell_type": "code",
   "execution_count": 2,
   "metadata": {},
   "outputs": [
    {
     "name": "stdout",
     "output_type": "stream",
     "text": [
      "I AM APPLES!\n"
     ]
    }
   ],
   "source": [
    "mystuff = {'apple': \"I AM APPLES!\"}\n",
    "print(mystuff['apple'])"
   ]
  },
  {
   "cell_type": "markdown",
   "metadata": {},
   "source": [
    "Keep this idea of \"get X from Y\" in your head, and now think about modules. You've made a few so far, and you should know they are:\n",
    "\n",
    "1. A Python file with some functions or variables in it...\n",
    "2. Which you can import...\n",
    "3. And access the functions or variables of the . (dot) operator.\n",
    "\n",
    "Imagine I have a module that I decide to name \"mystuff.py\" and I put a function in it called \"apple\". Here's the module \"mystuff.py\":"
   ]
  },
  {
   "cell_type": "code",
   "execution_count": 4,
   "metadata": {},
   "outputs": [],
   "source": [
    "# this goes in mystuff.py\n",
    "def apple():\n",
    "    print(\"I AM APPLES!\")"
   ]
  },
  {
   "cell_type": "markdown",
   "metadata": {},
   "source": [
    "Once I have this code, I can use the module \"MyStuff\" with import and then access the \"apple\" function:"
   ]
  },
  {
   "cell_type": "code",
   "execution_count": 8,
   "metadata": {},
   "outputs": [
    {
     "name": "stdout",
     "output_type": "stream",
     "text": [
      "I AM APPLES!\n"
     ]
    }
   ],
   "source": [
    "#import mystuff\n",
    "#mystuff.apple()\n",
    "\n",
    "apple()"
   ]
  },
  {
   "cell_type": "code",
   "execution_count": null,
   "metadata": {},
   "outputs": [],
   "source": []
  }
 ],
 "metadata": {
  "kernelspec": {
   "display_name": "Python 3",
   "language": "python",
   "name": "python3"
  },
  "language_info": {
   "codemirror_mode": {
    "name": "ipython",
    "version": 3
   },
   "file_extension": ".py",
   "mimetype": "text/x-python",
   "name": "python",
   "nbconvert_exporter": "python",
   "pygments_lexer": "ipython3",
   "version": "3.6.4"
  }
 },
 "nbformat": 4,
 "nbformat_minor": 2
}
