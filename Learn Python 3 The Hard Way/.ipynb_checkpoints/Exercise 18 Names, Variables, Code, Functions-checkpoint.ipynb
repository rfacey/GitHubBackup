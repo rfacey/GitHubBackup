{
 "cells": [
  {
   "cell_type": "markdown",
   "metadata": {},
   "source": [
    "# Names, Variables, Code, Functions\n",
    "\n",
    "Bit title, right? I am about to introduce you to the fuction! Dum dum dah! Every programmer will go on and on about functions and all the different ideas about how they work and what they dom but I will give you the simplest explanation you can use right now.\n",
    "\n",
    "Functions do three things:\n",
    "    1. They name pieces of code the way variables name strings and numbers.\n",
    "    2. They take arguments the way your scripts take argv.\n",
    "    3. Using 1 and 2, they let you make your own \"mini-scripts\" or \"tiny-commands.\"\n",
    "    \n",
    "You can create a function by using the word def in Python. I'm going to have you make four different functions that work like your scripts, and then I'll show you how each one is related."
   ]
  }
 ],
 "metadata": {
  "kernelspec": {
   "display_name": "Python 3",
   "language": "python",
   "name": "python3"
  },
  "language_info": {
   "codemirror_mode": {
    "name": "ipython",
    "version": 3
   },
   "file_extension": ".py",
   "mimetype": "text/x-python",
   "name": "python",
   "nbconvert_exporter": "python",
   "pygments_lexer": "ipython3",
   "version": "3.6.4"
  }
 },
 "nbformat": 4,
 "nbformat_minor": 2
}
