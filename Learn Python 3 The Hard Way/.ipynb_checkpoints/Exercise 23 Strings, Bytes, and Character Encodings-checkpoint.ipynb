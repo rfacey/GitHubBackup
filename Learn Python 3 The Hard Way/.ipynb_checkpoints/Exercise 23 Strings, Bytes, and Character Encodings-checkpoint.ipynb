{
 "cells": [
  {
   "cell_type": "markdown",
   "metadata": {},
   "source": [
    "# Strings, Bytes, and Character Encodings\n",
    "\n",
    "To do this exercise you'll need to download a text file that I've written named languages.txt (https://learnpythonthehardway.org/python3/languages.txt). This file was created with a list of human languages to demonstrate a few interesting concepts:\n",
    "    1. How modern computers store human languages for display and processing and how Python calls this strings\n",
    "    2. How you must \"encode\" and \"decode\" Python's strings into a type called bytes\n",
    "    3. How to handle errors in your string and byte handling.\n",
    "    4. How to read code and find out what it means even if you've never seen it before.\n",
    "\n",
    "In addition to that you'll also get a brief glimpse of the Python 3 if-statement and lists for processing a list of things. You don't have to master this code or understand these concepts right away. You'll get plenty of practice in later exercises. For now your job is to get a taste of the future and learn the four topics in the preceding list.\n",
    "\n",
    "WARNING! This exercise is hard! There's a lot of information in it that you need to understand, and it's information that goes deep into computers. This exercise is complex because Python's strings are complex and difficult to use. I recommend you take this exercise painfully slow. Write down every word you don't understand, and look it up or research it. Take a paragraph at a time if you must. You can continue with other exercises while you study this one, so don't get stuck here. Just chip away at it for as long as it takes.\n",
    "\n",
    "## Initial Research\n",
    "\n",
    "I'm gong to teach you how to research a piece of code to expose its secrets. You'll need the languages.txt file for this code to work, so make sure you download it first. The languages.txt file simply contains a list of human language names that are encoded in UTF-8."
   ]
  },
  {
   "cell_type": "markdown",
   "metadata": {},
   "source": [
    "Simply write down a list of each thing you've never seen before. There may be quite a few things that are new, so scan the file a faw times.\n",
    "\n",
    "Once you have that you'll want to run this Python scriptto play with it. Here are some example commands I used to test it:"
   ]
  },
  {
   "cell_type": "markdown",
   "metadata": {},
   "source": [
    "WARNING! You'll notice I'm using images here to show you what you should see. After extensive testing it turns out that so many people have their computers configured to not display UTF-8 that I had to use images so you'll know what to expect. Even my own typesetting system (LaTeX) couldn't handle these encodings, forcing me to use images instead. If you don't see this then your Terminal is most likely not able to display UTF-8 and you should try to fix that.\n",
    "\n",
    "These examples use the utf-8, utf-16, and big5 encodings to demonstrate the conversion and the types of errors you can get. Each of these names are called a \"codex\" in Python 3, but you use the parameter \"encoding.\" At the end of this exercise there's a list of the available encodings if you want to try more. I'll cover what all of this outputmeans shortly. You're only trying to get an idea of how this works so we can talk about it.\n",
    "\n",
    "After you've run it a few times, go through your list of symbols and make a guess as to what they do. When you've written down your guesses try looking the symbols up online to see if you can confirm your hypotheses. Don't worry if you have no idea how to search for them. Just give it a try.\n",
    "\n",
    "## Switches, Conventions, and Encodings\n",
    "\n",
    "Before I can get into what this code means, you need to learn some basics about how data is stored in a computer. Modern computers are incredibly complex, but at their cores they are like a huge array of light switches. Computers use electricity to flip switches on or off. These switches can represent 1 for on, or 0 for off. In the old days there were all kinds of weird computers that did more than just 1 or 0, but these days it's just 1s and 0s. One represents energy, on, power, substance. Zero represents off, done, gone, power down, the lack of energy. We call these 1s and 0s \"bits.\"\n",
    "\n",
    "Now,"
   ]
  }
 ],
 "metadata": {
  "kernelspec": {
   "display_name": "Python 3",
   "language": "python",
   "name": "python3"
  },
  "language_info": {
   "codemirror_mode": {
    "name": "ipython",
    "version": 3
   },
   "file_extension": ".py",
   "mimetype": "text/x-python",
   "name": "python",
   "nbconvert_exporter": "python",
   "pygments_lexer": "ipython3",
   "version": "3.6.4"
  }
 },
 "nbformat": 4,
 "nbformat_minor": 2
}
