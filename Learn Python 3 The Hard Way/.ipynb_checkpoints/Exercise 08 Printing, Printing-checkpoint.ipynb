{
 "cells": [
  {
   "cell_type": "markdown",
   "metadata": {},
   "source": [
    "# Printing, Printing\n",
    "\n",
    "We will now see how to do a more complicated formatiing of a string. This code looks complex, but if you do your comments above each line and break each thing down to its parts, you'll understand it."
   ]
  },
  {
   "cell_type": "code",
   "execution_count": 1,
   "metadata": {},
   "outputs": [
    {
     "name": "stdout",
     "output_type": "stream",
     "text": [
      "1 2 3 4\n",
      "one two three four\n",
      "True False False True\n",
      "{} {} {} {} {} {} {} {} {} {} {} {} {} {} {} {}\n",
      "Try your Own text here Maybe a poem Or a song about fear\n"
     ]
    }
   ],
   "source": [
    "formatter = \"{} {} {} {}\"\n",
    "\n",
    "print(formatter.format(1, 2, 3, 4))\n",
    "print(formatter.format(\"one\", \"two\", \"three\", \"four\"))\n",
    "print(formatter.format(True, False, False, True))\n",
    "print(formatter.format(formatter, formatter, formatter, formatter))\n",
    "print(formatter.format(\n",
    "    \"Try your\",\n",
    "    \"Own text here\",\n",
    "    \"Maybe a poem\",\n",
    "    \"Or a song about fear\"\n",
    "))"
   ]
  },
  {
   "cell_type": "markdown",
   "metadata": {},
   "source": [
    "## What You Should See\n",
    "\n",
    "In this exercise I'm using something called a function to turn the formatter variable into other strings. When you see me write formatter.format(...) I'm telling python to do the following:\n",
    "\n",
    "1. Take the formatter string defined in line 1.\n",
    "2. Call its format function, which is similiar to telling it to do a command line command named format.\n",
    "3. Pass to format four arguments, which match up with the four {}s in the formatter variable. This is like passing arguments to the command line command format.\n",
    "4. The result of calling format on formatter is a new string that has the {} replaced with the four variables. This is what print is now printing out.\n",
    "\n",
    "That's a lot for the eighth exercise, so what I want you to do is consider this a brain teaser. It's alright if you don't really understand what's going on because the rest of the book will slowly make this clear. At this point, try to study this and see what's going on, then move on to the next exercise.\n",
    "\n",
    "## Study Drills\n",
    "\n",
    "Do your checks, write down your mistakes, and try not to make the same mistakes on the next exercise. In other word, repeat the Study Drills from Exercise 7.\n",
    "\n",
    "## Common Student Questions\n",
    "\n",
    "Q: Why do I have to put quotes around \"one\" but not around True or False? A: Python recognizes True and False as keywords representing the concept of true and false. If you put quotes around them then they are turned into strings and won't work. You'll learn more about how these work in Exercise 27.\n",
    "\n",
    "Q: Can I use IDLE to run this? A: No, you should learn to use the command line. It is essential to learning programming and is a good place to start if you want to learn about programming. IDLE will fail for you when you get further in the book."
   ]
  }
 ],
 "metadata": {
  "kernelspec": {
   "display_name": "Python 3",
   "language": "python",
   "name": "python3"
  },
  "language_info": {
   "codemirror_mode": {
    "name": "ipython",
    "version": 3
   },
   "file_extension": ".py",
   "mimetype": "text/x-python",
   "name": "python",
   "nbconvert_exporter": "python",
   "pygments_lexer": "ipython3",
   "version": "3.6.4"
  }
 },
 "nbformat": 4,
 "nbformat_minor": 2
}
