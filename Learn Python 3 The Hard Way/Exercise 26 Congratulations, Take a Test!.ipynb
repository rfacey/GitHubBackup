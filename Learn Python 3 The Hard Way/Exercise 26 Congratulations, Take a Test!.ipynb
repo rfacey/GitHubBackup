{
 "cells": [
  {
   "cell_type": "markdown",
   "metadata": {},
   "source": [
    "# Congratulations, Take a Test!\n",
    "\n",
    "You are almost done with the first half of the book. The second half is where things get interesting. You will learn logic and be able to do useful things like make decisions.\n",
    "\n",
    "Before you continue, I have a quiz for you. This quiz will be very hard because it requires you to fix someone else's code. When you are a programmer you often have to deal with other programmers' code - and also with their arrogance. Programmers will very frequently claim that their code is perfect.\n",
    "\n",
    "These programmers are stupid people who care little for others. A good programmer assumes, like a good scientist, that there's always some probability their code is wrong. Good programmers start from the premise that their software is broken and then work to rule out all possible ways it could be wrong before finally admitting that maybe it really is the other guy's code.\n",
    "\n",
    "In this exercise, you will practice dealing with a bad programmer by fixing a bad programmer's code. I have poorly copied Exercises 24 and 25 into a file and removed random characters and added flaws. Most of the errors are things Python will tell you, while some of them are math errors you should find. Others are fomatting errors or spelling mistakes in the strings.\n",
    "\n",
    "All of these errors are very common mistakes all programmers make - even experienced ones.\n",
    "\n",
    "Your job in this exercise is to correct this file. Use all of your skills to make this file better. Analyze it first, maybe printing it out it out to edit it like you would a school term paper. Fix each flaw and keep running it and fixing it until the script runs perfectly. Try not to get help. If you get stuck, take a break and come back to it later.\n",
    "\n",
    "Even if this takes days to do, bust through it and make it right.\n",
    "\n",
    "The point of this exercise isn't to type it in but to fix an existing file. To do that, you must go to http://learnpythonthehardway.org/python3/exercise26.txt. Copy-paste the code into a file named ex26.py. This is the only time you are allowed to copy-paste."
   ]
  },
  {
   "cell_type": "code",
   "execution_count": null,
   "metadata": {},
   "outputs": [],
   "source": []
  }
 ],
 "metadata": {
  "kernelspec": {
   "display_name": "Python 3",
   "language": "python",
   "name": "python3"
  },
  "language_info": {
   "codemirror_mode": {
    "name": "ipython",
    "version": 3
   },
   "file_extension": ".py",
   "mimetype": "text/x-python",
   "name": "python",
   "nbconvert_exporter": "python",
   "pygments_lexer": "ipython3",
   "version": "3.6.4"
  }
 },
 "nbformat": 4,
 "nbformat_minor": 2
}
