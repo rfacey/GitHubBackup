{
 "cells": [
  {
   "cell_type": "code",
   "execution_count": 1,
   "metadata": {},
   "outputs": [],
   "source": [
    "import numpy as np\n",
    "import pandas as pd\n",
    "import matplotlib.pyplot as plt\n",
    "from datetime import datetime\n",
    "plt.style.use('fivethirtyeight')"
   ]
  },
  {
   "cell_type": "code",
   "execution_count": 6,
   "metadata": {},
   "outputs": [],
   "source": [
    "imported_data = []\n",
    "uniqueAuction = []\n",
    "auctionTable = []\n",
    "expandedAuction = []\n",
    "\n",
    "with open(\"data.txt\", \"r\") as data_file:\n",
    "    for row in data_file:\n",
    "        tempRow = row.strip()\n",
    "        tempRow = tempRow.split(\",\")\n",
    "        imported_data.append(list(tempRow))\n",
    "\n",
    "# Adding a weekend flag since most feasts are used in raids and people raid on weekends\n",
    "        \n",
    "weekendList = ['Friday','Saturday','Sunday']\n",
    "\n",
    "# Formatting the ints back to int and concatenating the date and time back to datetime\n",
    "\n",
    "for row in range(0, len(imported_data)):\n",
    "    imported_data[row][4] = int(imported_data[row][4])\n",
    "    imported_data[row][5] = int(imported_data[row][5])\n",
    "    imported_data[row][7] = datetime.combine(datetime.strptime(imported_data[row][6], '%x').date(),datetime.strptime(imported_data[row][7], '%X').time())\n",
    "    if imported_data[row][8] in weekendList:\n",
    "        imported_data[row][9] = 1\n",
    "    else:\n",
    "        imported_data[row][9] = 0\n",
    "    del imported_data[row][6]\n",
    "    del imported_data[row][3]\n",
    "    del imported_data[row][1]\n",
    "\n",
    "# Getting a unique list of auctionIDs. Used for finding most recent post\n",
    "    \n",
    "for row in range(0, len(imported_data)):\n",
    "    if imported_data[row][0] not in uniqueAuction:\n",
    "        uniqueAuction.append(imported_data[row][0])\n",
    "    else:\n",
    "        ''\n",
    "\n",
    "for row in range(0, len(uniqueAuction)):\n",
    "    auctionTable.append([uniqueAuction[row],'',0, 0, datetime(1900, 1, 1, 0, 0, 0), '', 0])\n",
    "\n",
    "# Finds the most recent post for each auction and grabs the data for that post    \n",
    "\n",
    "for row in range(0, len(auctionTable)):\n",
    "    for subrow in range(0, len(imported_data)):\n",
    "        if (auctionTable[row][0] == imported_data[subrow][0]) and (auctionTable[row][4] < imported_data[subrow][4]):\n",
    "            auctionTable[row][1] = imported_data[subrow][1]\n",
    "            auctionTable[row][2] = imported_data[subrow][2]\n",
    "            auctionTable[row][3] = imported_data[subrow][3]\n",
    "            auctionTable[row][4] = imported_data[subrow][4]\n",
    "            auctionTable[row][5] = imported_data[subrow][5]\n",
    "            auctionTable[row][6] = imported_data[subrow][6]\n",
    "        else:\n",
    "            ''"
   ]
  },
  {
   "cell_type": "code",
   "execution_count": null,
   "metadata": {},
   "outputs": [],
   "source": [
    "expandedAuction[]"
   ]
  },
  {
   "cell_type": "code",
   "execution_count": null,
   "metadata": {},
   "outputs": [],
   "source": [
    "for row in range(0, len(auctionTable)):\n",
    "    iterations = auctionTable[row][2]\n",
    "    for numbers in range(0, iterations):\n",
    "        expandedAuction.append(auctionTable[row])"
   ]
  },
  {
   "cell_type": "code",
   "execution_count": 28,
   "metadata": {},
   "outputs": [
    {
     "data": {
      "text/plain": [
       "149491"
      ]
     },
     "execution_count": 28,
     "metadata": {},
     "output_type": "execute_result"
    }
   ],
   "source": [
    "len(imported_data)"
   ]
  },
  {
   "cell_type": "code",
   "execution_count": 29,
   "metadata": {},
   "outputs": [
    {
     "data": {
      "text/plain": [
       "1188922"
      ]
     },
     "execution_count": 29,
     "metadata": {},
     "output_type": "execute_result"
    }
   ],
   "source": [
    "len(expandedAuction)"
   ]
  },
  {
   "cell_type": "code",
   "execution_count": 30,
   "metadata": {},
   "outputs": [
    {
     "data": {
      "text/plain": [
       "[['2086218654',\n",
       "  'Phantasmal Haunch',\n",
       "  18,\n",
       "  385000,\n",
       "  datetime.datetime(2021, 1, 27, 1, 0, 12),\n",
       "  'Wednesday',\n",
       "  0],\n",
       " ['2086218654',\n",
       "  'Phantasmal Haunch',\n",
       "  18,\n",
       "  385000,\n",
       "  datetime.datetime(2021, 1, 27, 1, 0, 12),\n",
       "  'Wednesday',\n",
       "  0],\n",
       " ['2086218654',\n",
       "  'Phantasmal Haunch',\n",
       "  18,\n",
       "  385000,\n",
       "  datetime.datetime(2021, 1, 27, 1, 0, 12),\n",
       "  'Wednesday',\n",
       "  0],\n",
       " ['2086218654',\n",
       "  'Phantasmal Haunch',\n",
       "  18,\n",
       "  385000,\n",
       "  datetime.datetime(2021, 1, 27, 1, 0, 12),\n",
       "  'Wednesday',\n",
       "  0],\n",
       " ['2086218654',\n",
       "  'Phantasmal Haunch',\n",
       "  18,\n",
       "  385000,\n",
       "  datetime.datetime(2021, 1, 27, 1, 0, 12),\n",
       "  'Wednesday',\n",
       "  0],\n",
       " ['2086218654',\n",
       "  'Phantasmal Haunch',\n",
       "  18,\n",
       "  385000,\n",
       "  datetime.datetime(2021, 1, 27, 1, 0, 12),\n",
       "  'Wednesday',\n",
       "  0],\n",
       " ['2086218654',\n",
       "  'Phantasmal Haunch',\n",
       "  18,\n",
       "  385000,\n",
       "  datetime.datetime(2021, 1, 27, 1, 0, 12),\n",
       "  'Wednesday',\n",
       "  0],\n",
       " ['2086218654',\n",
       "  'Phantasmal Haunch',\n",
       "  18,\n",
       "  385000,\n",
       "  datetime.datetime(2021, 1, 27, 1, 0, 12),\n",
       "  'Wednesday',\n",
       "  0],\n",
       " ['2086218654',\n",
       "  'Phantasmal Haunch',\n",
       "  18,\n",
       "  385000,\n",
       "  datetime.datetime(2021, 1, 27, 1, 0, 12),\n",
       "  'Wednesday',\n",
       "  0],\n",
       " ['2086218654',\n",
       "  'Phantasmal Haunch',\n",
       "  18,\n",
       "  385000,\n",
       "  datetime.datetime(2021, 1, 27, 1, 0, 12),\n",
       "  'Wednesday',\n",
       "  0],\n",
       " ['2086218654',\n",
       "  'Phantasmal Haunch',\n",
       "  18,\n",
       "  385000,\n",
       "  datetime.datetime(2021, 1, 27, 1, 0, 12),\n",
       "  'Wednesday',\n",
       "  0],\n",
       " ['2086218654',\n",
       "  'Phantasmal Haunch',\n",
       "  18,\n",
       "  385000,\n",
       "  datetime.datetime(2021, 1, 27, 1, 0, 12),\n",
       "  'Wednesday',\n",
       "  0],\n",
       " ['2086218654',\n",
       "  'Phantasmal Haunch',\n",
       "  18,\n",
       "  385000,\n",
       "  datetime.datetime(2021, 1, 27, 1, 0, 12),\n",
       "  'Wednesday',\n",
       "  0],\n",
       " ['2086218654',\n",
       "  'Phantasmal Haunch',\n",
       "  18,\n",
       "  385000,\n",
       "  datetime.datetime(2021, 1, 27, 1, 0, 12),\n",
       "  'Wednesday',\n",
       "  0],\n",
       " ['2086218654',\n",
       "  'Phantasmal Haunch',\n",
       "  18,\n",
       "  385000,\n",
       "  datetime.datetime(2021, 1, 27, 1, 0, 12),\n",
       "  'Wednesday',\n",
       "  0],\n",
       " ['2086218654',\n",
       "  'Phantasmal Haunch',\n",
       "  18,\n",
       "  385000,\n",
       "  datetime.datetime(2021, 1, 27, 1, 0, 12),\n",
       "  'Wednesday',\n",
       "  0],\n",
       " ['2086218654',\n",
       "  'Phantasmal Haunch',\n",
       "  18,\n",
       "  385000,\n",
       "  datetime.datetime(2021, 1, 27, 1, 0, 12),\n",
       "  'Wednesday',\n",
       "  0],\n",
       " ['2086218654',\n",
       "  'Phantasmal Haunch',\n",
       "  18,\n",
       "  385000,\n",
       "  datetime.datetime(2021, 1, 27, 1, 0, 12),\n",
       "  'Wednesday',\n",
       "  0],\n",
       " ['2086095283',\n",
       "  'Phantasmal Haunch',\n",
       "  3,\n",
       "  387700,\n",
       "  datetime.datetime(2021, 1, 27, 22, 0, 5),\n",
       "  'Wednesday',\n",
       "  0],\n",
       " ['2086095283',\n",
       "  'Phantasmal Haunch',\n",
       "  3,\n",
       "  387700,\n",
       "  datetime.datetime(2021, 1, 27, 22, 0, 5),\n",
       "  'Wednesday',\n",
       "  0]]"
      ]
     },
     "execution_count": 30,
     "metadata": {},
     "output_type": "execute_result"
    }
   ],
   "source": [
    "expandedAuction[0:20]"
   ]
  },
  {
   "cell_type": "code",
   "execution_count": 37,
   "metadata": {},
   "outputs": [
    {
     "data": {
      "text/plain": [
       "0"
      ]
     },
     "execution_count": 37,
     "metadata": {},
     "output_type": "execute_result"
    }
   ],
   "source": [
    "auctionTable[0].index('2086218654')"
   ]
  },
  {
   "cell_type": "code",
   "execution_count": null,
   "metadata": {},
   "outputs": [],
   "source": []
  }
 ],
 "metadata": {
  "kernelspec": {
   "display_name": "Python 3",
   "language": "python",
   "name": "python3"
  },
  "language_info": {
   "codemirror_mode": {
    "name": "ipython",
    "version": 3
   },
   "file_extension": ".py",
   "mimetype": "text/x-python",
   "name": "python",
   "nbconvert_exporter": "python",
   "pygments_lexer": "ipython3",
   "version": "3.6.4"
  }
 },
 "nbformat": 4,
 "nbformat_minor": 2
}
