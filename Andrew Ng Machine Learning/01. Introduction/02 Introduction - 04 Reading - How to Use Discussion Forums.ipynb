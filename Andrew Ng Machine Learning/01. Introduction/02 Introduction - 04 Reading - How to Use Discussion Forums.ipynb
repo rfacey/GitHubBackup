{
 "cells": [
  {
   "cell_type": "markdown",
   "metadata": {},
   "source": [
    "# How to Use Discussion Forums\n",
    "\n",
    "## Upvoting Posts\n",
    "\n",
    "When you enter the discussion forum for your course, you will see an Upvote button under each post. We encourage you to upvote posts you find thoughtful, interesting, or helpful. This is the best way to ensure that quality posts will be seen by other learners in the course. Upvoting will also increase the likelihood that important questions get addressed and answered.\n",
    "\n",
    "## Report Abuse\n",
    "\n",
    "Coursera's Code of Conduct prohibits:\n",
    "- Bullying or threatening other users\n",
    "- Posting spam or promotional content\n",
    "- Posting mature content\n",
    "- Posting assignment solutions (or other violations of the Honor Code)\n",
    "Please report any posts that infringe upon copyright or are abusive, offensive, or that otherwise violate Coursera’s Honor Code by using the Report this option found under the menu arrow to the right of each post.\n",
    "\n",
    "## Following\n",
    "\n",
    "If you find a particular thread interesting, click the Follow button under the original post of that thread page. When you follow a post, you will receive an email notification anytime a new post is made.\n",
    "\n",
    "## Improving Your Posts\n",
    "\n",
    "Course discussion forums are your chance to interact with thousands of like-minded individuals around the world. Getting their attention is one way to do well in this course. In any social interaction, certain rules of etiquette are expected and contribute to more enjoyable and productive communication. The following are tips for interacting in this course via the forums, adapted from guidelines originally compiled by AHA! and Chuq Von Rospach & Gene Spafford:\n",
    "\n",
    "1. Stay on topic in existing forums and threads. Off-topic posts make it hard for other learners to find information they need. Post in the most appropriate forum for your topic, and do not post the same thing in multiple forums.\n",
    "2. Use the filters at the top of the forum page (Latest, Top, and Unanswered) to find active, interesting content.\n",
    "3. Upvote posts that are helpful and interesting.\n",
    "4. Be civil. If you disagree, explain your position with respect and refrain from any and all personal attacks.\n",
    "5. Stay on topic. In particular, don’t change the subject in the middle of an existing thread – just start a new topic.\n",
    "6. Make sure you’re understood, even by non-native English speakers. Try to write full sentences, and avoid text-message abbreviations or slang. Be careful when you use humor and sarcasm as these messages are easy to misinterpret.\n",
    "7. If asking a question, provide as much information as possible, what you’ve already considered, what you’ve already read, etc.\n",
    "8. Cite appropriate references when using someone else’s ideas, thoughts, or words.\n",
    "9. Do not use a forum to promote your product, service, or business.\n",
    "10. Conclude posts by inviting other learners to extend the discussion. For example, you could say “I would love to understand what others think.”\n",
    "11. Do not post personal information about other posters in the forum.\n",
    "12. Report spammers.\n",
    "\n",
    "For more details, refer to Coursera's Forum Code of Conduct.\n",
    "\n",
    "These tips and tools for interacting in this course via the forums were adapted from guidelines originally by The University of Illinois."
   ]
  },
  {
   "cell_type": "code",
   "execution_count": null,
   "metadata": {},
   "outputs": [],
   "source": []
  }
 ],
 "metadata": {
  "kernelspec": {
   "display_name": "Python 3",
   "language": "python",
   "name": "python3"
  },
  "language_info": {
   "codemirror_mode": {
    "name": "ipython",
    "version": 3
   },
   "file_extension": ".py",
   "mimetype": "text/x-python",
   "name": "python",
   "nbconvert_exporter": "python",
   "pygments_lexer": "ipython3",
   "version": "3.6.4"
  }
 },
 "nbformat": 4,
 "nbformat_minor": 2
}
