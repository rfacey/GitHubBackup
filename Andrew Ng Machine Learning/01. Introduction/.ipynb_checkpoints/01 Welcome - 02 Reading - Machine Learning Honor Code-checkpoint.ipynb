{
 "cells": [
  {
   "cell_type": "markdown",
   "metadata": {},
   "source": [
    "# Reading: Machine Learning Honor Code\n",
    "\n",
    "### Machine Learning Honor Code\n",
    "\n",
    "We strongly encourage students to form study groups, and discuss the lecture videos (including in-video questions). We also encourage you to get together with friends to watch the videos together as a group. However, the answers that you submit for the review questions should be your own work. For the programming exercises, you are welcome to discuss them with other students, discuss specific algorithms, properties of algorithms, etc.; we ask only that you not look at any source code written by a different student, nor show your solution code to other students.\n",
    "\n",
    "### Guidelines for Posting Code in Discussion Forums\n",
    "\n",
    "Scenario 1: Code to delete\n",
    "\n",
    "Learner Question/Comment: \"Here is the code I have so far, but it fails the grader. Please help me fix it.\"\n",
    "\n",
    "Why Delete?: The reason is that if there is a simple fix provided by a student, a quick copy and paste with a small edit will provide credit without individual effort.\n",
    "\n",
    "Learner Question: A student substitutes words for the math operators, but includes the variable names (or substitutes the equivalent greek letters (θ for 'theta', etc). This student also provides a sentence-by-sentence, line by line, description of exactly what their code implements. \"The first line of my script has the equation \"hypothesis equals theta times X\", but I get the following error message...\".\n",
    "\n",
    "Why Delete?: This should be deleted. “Spelling out” the code in English is the same as using the regular code.\n",
    "\n",
    "Scenario 2: Code not to delete\n",
    "Learner Question: How do I subset a matrix to eliminate the intercept?\n",
    "\n",
    "Mentor Response: This probably would be okay, especially if the person posting makes an effort to not use familiar variable names, or to use a context which has nothing to do with the contexts in the assignments.\n",
    "\n",
    "It is clearly ok to show examples of Octave code to demonstrate a technique. Even if the technique itself is directly applicable to a programming problem at hand. As long as what is typed cannot be \"cut and pasted\" into the program at hand.\n",
    "\n",
    "E.g. how do I set column 1 of a matrix to zero? Try this in your Octave work area:\n",
    "\n",
    "- A = magic(3)\n",
    "\n",
    "- A(:,1) = 0\n",
    "\n",
    "The above is always acceptable (in my understanding). Demonstrating techniques and learning the language/syntax are important Forum activities."
   ]
  },
  {
   "cell_type": "code",
   "execution_count": null,
   "metadata": {},
   "outputs": [],
   "source": []
  }
 ],
 "metadata": {
  "kernelspec": {
   "display_name": "Python 3",
   "language": "python",
   "name": "python3"
  },
  "language_info": {
   "codemirror_mode": {
    "name": "ipython",
    "version": 3
   },
   "file_extension": ".py",
   "mimetype": "text/x-python",
   "name": "python",
   "nbconvert_exporter": "python",
   "pygments_lexer": "ipython3",
   "version": "3.6.4"
  }
 },
 "nbformat": 4,
 "nbformat_minor": 2
}
