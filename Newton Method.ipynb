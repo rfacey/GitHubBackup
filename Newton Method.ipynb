{
 "cells": [
  {
   "cell_type": "code",
   "execution_count": 1,
   "metadata": {},
   "outputs": [],
   "source": [
    "import numpy as np"
   ]
  },
  {
   "cell_type": "code",
   "execution_count": 13,
   "metadata": {},
   "outputs": [],
   "source": [
    "def newton_method(f,df,x0,tol,max_iter):\n",
    "    i = 0\n",
    "    while i < max_iter:\n",
    "        x = x0 - f(x0)/df(x0)\n",
    "        if np.abs(x - x0) < tol:\n",
    "            print(x)\n",
    "            return\n",
    "        print(i,x)\n",
    "        i += 1\n",
    "        x0 = x    \n",
    "    print('The method failed after N0 iterations, N0 =',max_iter)\n",
    "    return"
   ]
  },
  {
   "cell_type": "code",
   "execution_count": 14,
   "metadata": {},
   "outputs": [
    {
     "name": "stdout",
     "output_type": "stream",
     "text": [
      "0 0.7395361335152383\n",
      "1 0.7390851781060102\n",
      "2 0.739085133215161\n",
      "0.7390851332151606\n"
     ]
    }
   ],
   "source": [
    "f = lambda x: np.cos(x) - x\n",
    "g = lambda x: -np.sin(x) - 1\n",
    "newton_method(f,g,np.pi/4,1e-8,40)"
   ]
  },
  {
   "cell_type": "code",
   "execution_count": null,
   "metadata": {},
   "outputs": [],
   "source": [
    "def newton_method(f,df,x0,tol,max_iter):\n",
    "    i = 0\n",
    "    while i < max_iter:\n",
    "        x = x0 - f(x0)/df(x0)\n",
    "        if np.abs(x - x0) < tol:\n",
    "            print(x)\n",
    "            return\n",
    "        print(i,x)\n",
    "        i += 1\n",
    "        x0 = x    \n",
    "    print('The method failed after N0 iterations, N0 =',max_iter)\n",
    "    return"
   ]
  }
 ],
 "metadata": {
  "kernelspec": {
   "display_name": "Python 3",
   "language": "python",
   "name": "python3"
  },
  "language_info": {
   "codemirror_mode": {
    "name": "ipython",
    "version": 3
   },
   "file_extension": ".py",
   "mimetype": "text/x-python",
   "name": "python",
   "nbconvert_exporter": "python",
   "pygments_lexer": "ipython3",
   "version": "3.6.4"
  }
 },
 "nbformat": 4,
 "nbformat_minor": 4
}
