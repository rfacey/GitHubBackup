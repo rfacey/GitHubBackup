{
 "cells": [
  {
   "cell_type": "markdown",
   "metadata": {},
   "source": [
    "http://course18.fast.ai/lessonsml1/lesson1.html"
   ]
  },
  {
   "cell_type": "markdown",
   "metadata": {},
   "source": [
    "# 1 - Introduction to Random Forests\n",
    "\n",
    "Welcome to Introduction to Machine Learning for Coders! Lesson 1 will show you to create a \"random forest\" - perhaps the most widely applicable machine learning model - to create a solution to the \"Bull Book for Bulldozers\" Kaggle competition, which will get you in the two 25% on the leaderboard. You'll learn how to user a Jupyter Notebook to build and analyze models, how to download data, and other basic skills you need to get started with machine learning in practice."
   ]
  },
  {
   "cell_type": "code",
   "execution_count": null,
   "metadata": {},
   "outputs": [],
   "source": []
  }
 ],
 "metadata": {
  "kernelspec": {
   "display_name": "Python 3",
   "language": "python",
   "name": "python3"
  },
  "language_info": {
   "codemirror_mode": {
    "name": "ipython",
    "version": 3
   },
   "file_extension": ".py",
   "mimetype": "text/x-python",
   "name": "python",
   "nbconvert_exporter": "python",
   "pygments_lexer": "ipython3",
   "version": "3.6.4"
  }
 },
 "nbformat": 4,
 "nbformat_minor": 2
}
