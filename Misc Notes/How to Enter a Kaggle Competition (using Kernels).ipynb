{
 "cells": [
  {
   "cell_type": "markdown",
   "metadata": {},
   "source": [
    "https://www.youtube.com/watch?v=GJBOMWpLpTQ\n",
    "\n",
    "Have you ever thought about joining a Kaggle competition but don't really know where to start? Well, you're in the right place! I'm Kaggle data scientist, Rachael Tatman, and today I'm going to show you how to enter a competition. \n",
    "\n",
    "Alright. To start off with, we are going to pick a competition and I already know I want to enter the \"Housing Prices: Advanced Regression Techniques.\" Before I join, I'm probably going to want to read through the rules but I actually read through them earlier and you can do that on your own. I've accepted the rules for this competition and I've joined the competition. Let's find a kernel to work off of. Let's see kernels that people have recently run. Looking through here; oh look. Here's an example submission. Rachael, is that you? Yeah, that's me. I made this earlier. I'm going to click on this example submission here.\n",
    "\n",
    "This is going to walk me through all the steps I need in order to enter a Kaggle competition. Rather that just reading through it here, I'm actually just going to copy and edit this kernel so I have my own copy that I can work in. It's going to take just a second spin up. \n",
    "\n",
    "When you enter a competition there are couple of basic steps you need to do. First you need to train your model. I'm doing all this in Kaggle kernels which means that our code is going to be run on Kaggle rather than on my local computer. This kernel already has a lot of the information we need in it so we're reading in some helpful libraries. This is using R. You can also write a kernel in Python if you prefer. Loading in my data then I'm setting my seed for reproducibility. From here, I want to actually train my model. It looks like this person, it's me, has already started training a very simple model. We're doing test train split for cross validation, so I can check that my model is not overfitting. Then there'a little bit of preproccessing. We're taking the training data, removing the column we are trying to predict, sale price. And here, are converting strings to factors and then we are doing some label encoding. This is just taking categorical factors like zoning and turning that into a number so that we can create a matrix. And from there we can use our matrix as input to an xgboost model. Let's train our model really quick. \n",
    "\n",
    "If we look at the mean-average error, which is what is competition is going to be graded on, I can see that it looks like it's actually it's still going down as we continue to do lots of boosting rounds. This is an xgboost model and the number of rounds you train it for will affect how much complexity in the data you can model.\n",
    "\n",
    "Let's make sure we are not overfitting by running the same model on some of our held out data. We are doing some cross validation. It looks like the test error is actually smaller than the train error. What I'm going to do is just increase the number of training rounds and see if that's still the case. Alright. Yeah, and it looks like it is. So I think just by increasing the number of training rounds, I should get a better performance than this kernel originally had.\n",
    "\n",
    "Once we have trained our model, we can actually make our predictions. Our predictions here are going to based on this test csv. Which if we look at our data set, we can see that the train csv has 81 columns and the test csv has 80 columns. That's because the test dataset has all of the features you would need but it does not have the feature you are trying to predict. I don't know what the answers are for here. That is what I'm trying to guess. I will take this test data that doesn't have the target column, I'm going to do the exact same preprocessing as I did before, and I'm going to make some predictions based on the model that I've trained up here to several more rounds than the original submission. And then I'm going to make predictions using this test data matrix and I'm going to save it as a csv. What I'm saying here is I want a dataframe with two columns One column is called ID and this has the ID information from the test data and one column is called SalePrice and this has my predictions from the submission prediction. I know those are the columns that I need because if I look at the sample submission here, I have the columns ID and SalePrice. If I don't have the right column names here when I go to submit my file, I will get an error.\n",
    "\n",
    "Alright. Once I have made my predictions, I am going to write those predictions to a csv file so I'm saving a file out that has all of my submission information in it. From here, I need to commit my notebook. Comitting runs all of your code top to bottom. It creates a stable version that you can refer back to later. If I'm making multiple submission, I can go back and look that the committed version I used for that specific submission. It looks like it's complete so let's open the version. Here, if I scroll down, you can see at the bottom we have output files. I have one output file, 'submission.csv', that has the predictions that I saved out in my kernel. I'm going to submit this file to the competiton.\n",
    "\n",
    "It's submitted. The submission is complete. It looks like my score is '0.16'. If I jump to my posiition on the leaderboard-\n",
    "\n",
    "I might have to wait a second for that to be done, but you can see that I have my score. I've made my submission and from here all I need to do is keep trying new things, improving my model, and making new submissions as I think the things that I did will improve my overall model. That's  it. All you need to do to enter a Kaggle competition. Obviously, I wrote some of the code offscreen but you are also welcome to the kernels people have made public for a specific competition and also check out the discussion and see what people are talking about that specific competition. \n",
    "\n",
    "Alright. Thanks so much for joining me. That's all you need to do to join a kaggle competition. Now that you know how, I hope I see you on Kaggle. I'll see you then! Bye!"
   ]
  }
 ],
 "metadata": {
  "kernelspec": {
   "display_name": "Python 3",
   "language": "python",
   "name": "python3"
  },
  "language_info": {
   "codemirror_mode": {
    "name": "ipython",
    "version": 3
   },
   "file_extension": ".py",
   "mimetype": "text/x-python",
   "name": "python",
   "nbconvert_exporter": "python",
   "pygments_lexer": "ipython3",
   "version": "3.6.4"
  }
 },
 "nbformat": 4,
 "nbformat_minor": 2
}
