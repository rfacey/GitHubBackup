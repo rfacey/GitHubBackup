{
 "cells": [
  {
   "cell_type": "markdown",
   "metadata": {},
   "source": [
    "https://developer.android.com/training/basics/firstapp\n",
    "\n",
    "# Build your first app\n",
    "\n",
    "This section describes how to build a simple Android app. First, you learn how to create a \"Hello, World!\" project with Android Studio and run it. Then, you create a new interace for the app that takes user input and switches to a new screen in the app to display it.\n",
    "\n",
    "Before you start, there are two fundamental concepts that you need to understand about Android apps: how they provide multiple entry points, and how they adapt to different devices.\n",
    "\n",
    "### Apps provide multiple entry points\n",
    "\n",
    "Android apps are built as a combination of compenents that can be invoked individually. For example, an activity is a type of app component that provides a user interface (UI). \n",
    "\n",
    "The \"main\" activity starts when the user taps your app's icon. You can also direct the user to an activity from elsewhere, such as from a notification or even from a different app.\n",
    "\n",
    "Other components, such as broadcast receivers and services, allow your app to perform background tasks without a UI.\n",
    "\n",
    "After you build your first app, you can learn more about the other app components at Application fundamentals.\n",
    "\n",
    "### Apps adapt to different devices\n",
    "\n",
    "Android allows you to prove different resources for different devices. For example, you can create different layouts for different screen sizes. The system determines which layout to use based on the screen size of the current device.\n",
    "\n",
    "If any of your app's features need specific hardware, such as a camera, you can query at runtime whether the device has that hardware or not, and then disable the corresponding features if it doesn't. You can specify that your app requires certain hardware so that Google Play won't allow the app to be installed on devices without them.\n",
    "\n",
    "After you build your first app, learn more about device configurations at Device compatibility overview.\n",
    "\n",
    "With these two basic concepts in mind, proceed to the next lesson to build your first app!"
   ]
  }
 ],
 "metadata": {
  "kernelspec": {
   "display_name": "Python 3",
   "language": "python",
   "name": "python3"
  },
  "language_info": {
   "codemirror_mode": {
    "name": "ipython",
    "version": 3
   },
   "file_extension": ".py",
   "mimetype": "text/x-python",
   "name": "python",
   "nbconvert_exporter": "python",
   "pygments_lexer": "ipython3",
   "version": "3.6.4"
  }
 },
 "nbformat": 4,
 "nbformat_minor": 2
}
