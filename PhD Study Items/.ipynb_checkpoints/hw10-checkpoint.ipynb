{
 "cells": [
  {
   "cell_type": "code",
   "execution_count": 2,
   "metadata": {},
   "outputs": [],
   "source": [
    "import os\n",
    "\n",
    "commands = []\n",
    "commandsFile = open(\"commands.txt\", \"r\")\n",
    "for line in commandsFile:\n",
    "    commands.append(line.strip())"
   ]
  },
  {
   "cell_type": "code",
   "execution_count": 3,
   "metadata": {},
   "outputs": [],
   "source": [
    "# Used in testing\n",
    "loopedfile = open(\"results.txt\", \"w\")\n",
    "loopedfile.truncate()\n",
    "loopedfile.close()\n",
    "for line in commands:\n",
    "    loopedfile = open(\"results.txt\", \"a\")\n",
    "    loopedfile.write(\"\\\\begin{itemize}\\n\\\\item \" + line + \"\\n\")\n",
    "    loopedfile.write(\"\\\\begin{verbatim}\\n\")\n",
    "    loopedfile.close()\n",
    "    \n",
    "    os.system(f\"{line} | head -10 >> results.txt\")\n",
    "    \n",
    "    loopedfile = open(\"results.txt\", \"a\")\n",
    "    loopedfile.write(\"\\\\end{verbatim} \\n\\n\")\n",
    "    loopedfile.close"
   ]
  },
  {
   "cell_type": "code",
   "execution_count": 4,
   "metadata": {},
   "outputs": [],
   "source": [
    "LatexEssentialBegin = []\n",
    "LatexEssentialEnd = []"
   ]
  },
  {
   "cell_type": "code",
   "execution_count": 14,
   "metadata": {},
   "outputs": [],
   "source": [
    "LatexEssentialBegin = '''\n",
    "\\\\documentclass{article}\n",
    "\\\\usepackage{amsmath}\n",
    "\\\\usepackage[utf8]{inputenc}\n",
    "\n",
    "\\\\title{Essentials}\n",
    "\\\\author{roberto.facey}\n",
    "\\\\date{October 2020}\n",
    "\n",
    "\\\\begin{document}\n",
    "\n",
    "\\\\maketitle\n",
    "\n",
    "\\\\section{Introduction}\n",
    "\n",
    "'''"
   ]
  },
  {
   "cell_type": "code",
   "execution_count": 6,
   "metadata": {},
   "outputs": [],
   "source": [
    "LatexEssentialEnd = '''\n",
    "\\\\end{document}\n",
    "'''"
   ]
  },
  {
   "cell_type": "code",
   "execution_count": 13,
   "metadata": {},
   "outputs": [
    {
     "data": {
      "text/plain": [
       "['egrep --color=auto ing 161.txt',\n",
       " 'egrep --color=auto ^B 161.txt',\n",
       " 'egrep --color=auto l$ 161.txt',\n",
       " 'egrep --color=auto \"\\\\.$\" 161.txt',\n",
       " 'egrep -v  --color=auto  \"the\" 161.txt',\n",
       " 'egrep -v  --color=auto \" the \" 161.txt',\n",
       " 'egrep --color=auto \".oo.ness\" 161.txt',\n",
       " 'egrep --color=auto T[a-z]* 161.txt',\n",
       " 'egrep -E  --color=auto \"bo+\" 161.txt',\n",
       " 'egrep --color=auto \"bo+\" 161.txt']"
      ]
     },
     "execution_count": 13,
     "metadata": {},
     "output_type": "execute_result"
    }
   ],
   "source": [
    "commands"
   ]
  },
  {
   "cell_type": "code",
   "execution_count": 16,
   "metadata": {},
   "outputs": [],
   "source": [
    "file = open(\"regex.txt\", \"w\")\n",
    "file.truncate()\n",
    "file.write(LatexEssentialBegin)\n",
    "file.close()\n",
    "\n",
    "for line in commands:\n",
    "    loopedfile = open(\"regex.txt\", \"a\")\n",
    "    loopedfile.write(\"\\\\begin{itemize}\\n\\\\item {\\\\bf Command}: \\\\Q{\" + line + \"} \\n\")\n",
    "    loopedfile.write(\"\\\\begin{verbatim}\\n\")\n",
    "    loopedfile.close()\n",
    "    \n",
    "    os.system(f\"{line} | head -10 >> regex.txt\")\n",
    "    \n",
    "    loopedfile = open(\"regex.txt\", \"a\")\n",
    "    loopedfile.write(\"\\\\end{verbatim} \\n\\n\")\n",
    "    loopedfile.close\n",
    "\n",
    "file = open(\"regex.txt\", \"a\")\n",
    "file.write(LatexEssentialEnd)\n",
    "file.close()"
   ]
  },
  {
   "cell_type": "code",
   "execution_count": null,
   "metadata": {},
   "outputs": [],
   "source": []
  }
 ],
 "metadata": {
  "kernelspec": {
   "display_name": "Python 3",
   "language": "python",
   "name": "python3"
  },
  "language_info": {
   "codemirror_mode": {
    "name": "ipython",
    "version": 3
   },
   "file_extension": ".py",
   "mimetype": "text/x-python",
   "name": "python",
   "nbconvert_exporter": "python",
   "pygments_lexer": "ipython3",
   "version": "3.6.4"
  }
 },
 "nbformat": 4,
 "nbformat_minor": 2
}
