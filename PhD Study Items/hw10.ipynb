{
 "cells": [
  {
   "cell_type": "code",
   "execution_count": 1,
   "metadata": {},
   "outputs": [],
   "source": [
    "import os\n",
    "\n",
    "commands = []\n",
    "commandsFile = open(\"commands.txt\", \"r\")\n",
    "for line in commandsFile:\n",
    "    commands.append(line.strip())"
   ]
  },
  {
   "cell_type": "code",
   "execution_count": 40,
   "metadata": {},
   "outputs": [],
   "source": [
    "LatexEssentialBegin = []\n",
    "LatexEssentialEnd = []"
   ]
  },
  {
   "cell_type": "code",
   "execution_count": 41,
   "metadata": {},
   "outputs": [],
   "source": [
    "LatexEssentialBegin = '''\n",
    "\\\\documentclass[11pt]{article}\n",
    "\\\\usepackage{amsmath}\n",
    "\\\\usepackage{graphicx}\n",
    "\n",
    "\\\\title{\\\\bf COMS 6100 - Homework 10}\n",
    "\\\\author{roberto.facey}\n",
    "\\\\date{October 2020}\n",
    "\n",
    "\\\\begin{document}\n",
    "\n",
    "\\\\maketitle\n",
    "\n",
    "\\\\begin{enumerate}\n",
    "\n",
    "'''"
   ]
  },
  {
   "cell_type": "code",
   "execution_count": 42,
   "metadata": {},
   "outputs": [],
   "source": [
    "LatexEssentialEnd = '''\n",
    "\\\\end{enumerate}\n",
    "\\\\end{document}\n",
    "'''"
   ]
  },
  {
   "cell_type": "code",
   "execution_count": 71,
   "metadata": {},
   "outputs": [],
   "source": [
    "def LatexClean(text):\n",
    "    cleanedText = text.replace(\"\\\\\",\"\\\\textbackslash\")\n",
    "    cleanedText = cleanedText.replace(\"--\",\"\\\\texttt{-{}-}\")\n",
    "    cleanedText = cleanedText.replace(\"^\",\"\\\\textasciicircum \")\n",
    "    cleanedText = cleanedText.replace(\"$\",\"\\\\textdollar {}\")\n",
    "    return cleanedText"
   ]
  },
  {
   "cell_type": "code",
   "execution_count": 72,
   "metadata": {
    "scrolled": true
   },
   "outputs": [
    {
     "data": {
      "text/plain": [
       "['egrep --color=auto ing 161.txt',\n",
       " 'egrep --color=auto ^B 161.txt',\n",
       " 'egrep --color=auto 1$ 161.txt',\n",
       " 'egrep --color=auto \"\\\\.$\" 161.txt',\n",
       " 'egrep -v --color=auto \"the\" 161.txt',\n",
       " 'egrep -v --color=auto \" the \" 161.txt',\n",
       " 'egrep --color=auto \".oo.ness\" 161.txt',\n",
       " 'egrep --color=auto T[a-z]* 161.txt',\n",
       " 'egrep -E --color=auto \"bo+\" 161.txt',\n",
       " 'egrep --color=auto \"bo+\" 161.txt']"
      ]
     },
     "execution_count": 72,
     "metadata": {},
     "output_type": "execute_result"
    }
   ],
   "source": [
    "commands"
   ]
  },
  {
   "cell_type": "code",
   "execution_count": 73,
   "metadata": {},
   "outputs": [
    {
     "data": {
      "text/plain": [
       "'egrep \\\\texttt{-{}-}color=auto ing 161.txt'"
      ]
     },
     "execution_count": 73,
     "metadata": {},
     "output_type": "execute_result"
    }
   ],
   "source": [
    "LatexClean(\"egrep --color=auto ing 161.txt\")"
   ]
  },
  {
   "cell_type": "code",
   "execution_count": 76,
   "metadata": {},
   "outputs": [
    {
     "data": {
      "text/plain": [
       "32512"
      ]
     },
     "execution_count": 76,
     "metadata": {},
     "output_type": "execute_result"
    }
   ],
   "source": [
    "file = open(\"regex.tex\", \"w\")\n",
    "file.truncate()\n",
    "file.write(LatexEssentialBegin)\n",
    "file.close()\n",
    "\n",
    "for line in commands:\n",
    "    with open(\"regex.tex\", \"a\") as loopedfile:\n",
    "        loopedfile.write(\"\\\\item {\\\\bf Command}: \\Q{\" + LatexClean(line) + \"} \\n\")\n",
    "        loopedfile.write(\"\\\\begin{verbatim}\\n\")\n",
    "    \n",
    "    os.system(f\"{line} | head -10 >> regex.tex\")\n",
    "    \n",
    "    with open(\"regex.tex\", \"a\") as loopedfile:\n",
    "        loopedfile.write(\"\\\\end{verbatim}\\n\\n\")\n",
    "\n",
    "file = open(\"regex.tex\", \"a\")\n",
    "file.write(LatexEssentialEnd)\n",
    "file.close()\n",
    "\n",
    "os.system(\"pdflatex regex.tex\")"
   ]
  },
  {
   "cell_type": "code",
   "execution_count": null,
   "metadata": {},
   "outputs": [],
   "source": []
  }
 ],
 "metadata": {
  "kernelspec": {
   "display_name": "Python 3",
   "language": "python",
   "name": "python3"
  },
  "language_info": {
   "codemirror_mode": {
    "name": "ipython",
    "version": 3
   },
   "file_extension": ".py",
   "mimetype": "text/x-python",
   "name": "python",
   "nbconvert_exporter": "python",
   "pygments_lexer": "ipython3",
   "version": "3.6.4"
  }
 },
 "nbformat": 4,
 "nbformat_minor": 2
}
