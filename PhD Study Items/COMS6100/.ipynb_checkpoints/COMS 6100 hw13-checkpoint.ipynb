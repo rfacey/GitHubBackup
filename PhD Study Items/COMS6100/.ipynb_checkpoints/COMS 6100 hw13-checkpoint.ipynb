{
 "cells": [
  {
   "cell_type": "code",
   "execution_count": 51,
   "metadata": {},
   "outputs": [
    {
     "name": "stdout",
     "output_type": "stream",
     "text": [
      "Would you like to manually enter a matrix or create a random matrix?:(Manual/Random) \n",
      "Random\n",
      "Write size of the matrix in comma separated format\n",
      "3,2\n",
      "Random matrix: \n",
      " [[0.66045042 0.62403869]\n",
      " [0.79638901 0.10817027]\n",
      " [0.04140732 0.70666569]]\n",
      "R =\n",
      "[[-1.035444 -0.509495]\n",
      " [-0.        0.800573]] \n",
      "\n",
      "Q =\n",
      "[[-0.637843  0.373559]\n",
      " [-0.769128 -0.354367]\n",
      " [-0.03999   0.85725 ]]\n",
      "Run internal test?:(Y/N) \n",
      "N\n",
      "Thank you\n"
     ]
    }
   ],
   "source": [
    "import numpy as np\n",
    "from numpy import linalg as LA\n",
    "\n",
    "def column_convertor(x):\n",
    "    x.shape = (1, x.shape[0])\n",
    "    return x\n",
    "\n",
    "def householder_transformation(v):\n",
    "    size_of_v = v.shape[1]\n",
    "    e1 = np.zeros_like(v)             #Makes an array the same dim as v with zeros\n",
    "    e1[0, 0] = 1                      #Changes the first value to 1\n",
    "    vector = LA.norm(v) * e1\n",
    "    if v[0, 0] < 0:\n",
    "        vector = - vector\n",
    "    u = (v + vector).astype(np.float32)\n",
    "    H = np.identity(size_of_v) - ((2 * np.matmul(np.transpose(u), u)) / np.matmul(u, np.transpose(u)))\n",
    "    return H\n",
    "\n",
    "def qr_factorization(q, r, iter, n):  #Math stuff. Self note: DO NOT CHANGE!!!\n",
    "    v = column_convertor(r[iter:, iter])\n",
    "    Hbar = householder_transformation(v)\n",
    "    H = np.identity(n)\n",
    "    H[iter:, iter:] = Hbar\n",
    "    r = np.matmul(H, r)\n",
    "    q = np.matmul(q, H)\n",
    "    return q, r\n",
    "\n",
    "def myMatrix(A):\n",
    "    n = len(A)\n",
    "    m = len(A[0])\n",
    "    \n",
    "    true_min = min(n, m)                #Determine the number of iterations needed and used for trimming\n",
    "    true_max = max(n, m)                #Used later for trimming\n",
    "    \n",
    "    Q = np.identity(n)\n",
    "    R = A.astype(np.float32)\n",
    "    \n",
    "    for i in range(true_min):\n",
    "        Q, R = qr_factorization(Q, R, i, n)\n",
    "    \n",
    "    if n == m:                          #Trim the matrices if they are too long\n",
    "        R = R[:true_min, :true_min]\n",
    "    elif n > m:\n",
    "        Q = Q[:true_max, :true_min]\n",
    "        R = R[:true_min, :true_min]\n",
    "    else:\n",
    "        R = R[:true_min, :true_max]\n",
    "    \n",
    "    R = np.round(R, decimals=6)         #Clean up R for decimals\n",
    "    \n",
    "    Q = np.round(Q, decimals=6)         #Clean up Q for decimals\n",
    "    \n",
    "    return Q, R"
   ]
  },
  {
   "cell_type": "code",
   "execution_count": 48,
   "metadata": {},
   "outputs": [
    {
     "name": "stdout",
     "output_type": "stream",
     "text": [
      "Would you like to manually enter a matrix or create a random matrix?:(Manual/Random) \n",
      "Manual\n",
      "Write size of the matrix in comma separated format\n",
      "3,3\n",
      "Please enter values with spaces between each number:1 2 3 4 5 6 7 8 9\n",
      "Given matrix: \n",
      " [[1 2 3]\n",
      " [4 5 6]\n",
      " [7 8 9]]\n",
      "R =\n",
      "[[ -8.124039  -9.601137 -11.078235]\n",
      " [ -0.         0.904534   1.809068]\n",
      " [ -0.        -0.         0.      ]] \n",
      "\n",
      "Q =\n",
      "[[-0.123092  0.904534 -0.408248]\n",
      " [-0.492366  0.301511  0.816497]\n",
      " [-0.86164  -0.301511 -0.408248]]\n",
      "Run internal test?:(Y/N) \n",
      "Y\n",
      "Q * R = \n",
      "[[1.00000421 2.00000491 3.00000562]\n",
      " [4.00000059 5.00000037 6.00000016]\n",
      " [6.99999696 7.99999673 8.9999965 ]]\n",
      "\n",
      "\n",
      "Actual Q * R = \n",
      "[[1. 2. 3.]\n",
      " [4. 5. 6.]\n",
      " [7. 8. 9.]]\n"
     ]
    }
   ],
   "source": [
    "myMatrix()"
   ]
  },
  {
   "cell_type": "code",
   "execution_count": 49,
   "metadata": {},
   "outputs": [
    {
     "name": "stdout",
     "output_type": "stream",
     "text": [
      "Would you like to manually enter a matrix or create a random matrix?:(Manual/Random) \n",
      "Random\n",
      "Write size of the matrix in comma separated format\n",
      "3,2\n",
      "Random matrix: \n",
      " [[0.70014647 0.19271159]\n",
      " [0.50916479 0.17803647]\n",
      " [0.81871552 0.56789046]]\n",
      "R =\n",
      "[[-1.191532 -0.57952 ]\n",
      " [ 0.        0.235565]] \n",
      "\n",
      "Q =\n",
      "[[-0.587602 -0.627495]\n",
      " [-0.427319 -0.295476]\n",
      " [-0.687111  0.720378]]\n",
      "Run internal test?:(Y/N) \n",
      "Y\n",
      "Q * R = \n",
      "[[0.70014659 0.19271125]\n",
      " [0.50916426 0.1780361 ]\n",
      " [0.81871474 0.56789041]]\n",
      "\n",
      "\n",
      "Actual Q * R = \n",
      "[[0.70014647 0.19271159]\n",
      " [0.50916479 0.17803647]\n",
      " [0.81871552 0.56789046]]\n"
     ]
    }
   ],
   "source": [
    "myMatrix()"
   ]
  },
  {
   "cell_type": "code",
   "execution_count": 50,
   "metadata": {},
   "outputs": [
    {
     "name": "stdout",
     "output_type": "stream",
     "text": [
      "Would you like to manually enter a matrix or create a random matrix?:(Manual/Random) \n",
      "Random\n",
      "Write size of the matrix in comma separated format\n",
      "2,3\n",
      "Random matrix: \n",
      " [[0.69865012 0.49026516 0.17041782]\n",
      " [0.21618058 0.4833902  0.80382657]]\n",
      "R =\n",
      "[[-0.731332 -0.611246 -0.400412]\n",
      " [-0.       -0.316867 -0.71753 ]] \n",
      "\n",
      "Q =\n",
      "[[-0.955312  0.295599]\n",
      " [-0.295599 -0.955312]]\n",
      "Run internal test?:(Y/N) \n",
      "Y\n",
      "Q * R = \n",
      "[[0.69865024 0.49026507 0.17041724]\n",
      " [0.21618101 0.48339055 0.80382641]]\n",
      "\n",
      "\n",
      "Actual Q * R = \n",
      "[[0.69865012 0.49026516 0.17041782]\n",
      " [0.21618058 0.4833902  0.80382657]]\n"
     ]
    }
   ],
   "source": [
    "myMatrix()"
   ]
  },
  {
   "cell_type": "code",
   "execution_count": null,
   "metadata": {},
   "outputs": [],
   "source": []
  }
 ],
 "metadata": {
  "kernelspec": {
   "display_name": "Python 3",
   "language": "python",
   "name": "python3"
  },
  "language_info": {
   "codemirror_mode": {
    "name": "ipython",
    "version": 3
   },
   "file_extension": ".py",
   "mimetype": "text/x-python",
   "name": "python",
   "nbconvert_exporter": "python",
   "pygments_lexer": "ipython3",
   "version": "3.6.4"
  }
 },
 "nbformat": 4,
 "nbformat_minor": 2
}
