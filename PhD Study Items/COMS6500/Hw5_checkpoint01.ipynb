{
 "cells": [
  {
   "cell_type": "markdown",
   "metadata": {},
   "source": [
    "## Page 335 Table 5.19"
   ]
  },
  {
   "cell_type": "code",
   "execution_count": 117,
   "metadata": {},
   "outputs": [],
   "source": [
    "def f1(t,x1, x2):\n",
    "    return -t*x**2\n",
    "\n",
    "def f2(t,x1, x2):\n",
    "    return -t*x**2"
   ]
  },
  {
   "cell_type": "code",
   "execution_count": 118,
   "metadata": {},
   "outputs": [],
   "source": [
    "def RungeKuttaOF(a, b, n, alpha):\n",
    "    k1a = [0.0] * n\n",
    "    k2a = [0.0] * n\n",
    "    k3a = [0.0] * n\n",
    "    k4a = [0.0] * n\n",
    "    w1 = [0.0] * n\n",
    "    w2 = [0.0] * n\n",
    "    \n",
    "    k1b = [0.0] * n\n",
    "    k2b = [0.0] * n\n",
    "    k3b = [0.0] * n\n",
    "    k4b = [0.0] * n\n",
    "    w1b = [0.0] * n\n",
    "    w2b = [0.0] * n\n",
    "    \n",
    "    \n",
    "    h = (b - a)/n\n",
    "    t = a\n",
    "    \n",
    "    w1[0] = alpha\n",
    "    w2[0] = alpha\n",
    "    \n",
    "    for i in range(0, n): \n",
    "        k1a[i] = h * f1(t,w1[i]) \n",
    "        k1b[i] = h * f2(t,w2[i]) \n",
    "        #print(\"k1 = h * f(t,w1[i]) \")\n",
    "        #print(\"k1 = \"+str(h)+\" * f(\"+str(t)+\",\"+str(w1[i])+\") \")\n",
    "        #print(\"k1 = \" + str(k1[i]))\n",
    "        \n",
    "        k2a[i] = h * f1((t + h/2.0), (w1[i] + k1a[i]/2.0)) \n",
    "        k2b[i] = h * f2((t + h/2.0), (w2[i] + k1b[i]/2.0)) \n",
    "        #print(\"k2 = h * f((t + h/2.0), (w1[i] + k1[i]/2.0))\")\n",
    "        #print(\"k2 = \"+str(h)+\" * f((\"+str(t)+\" + \"+str(h)+\"/2.0), (\"+str(w1[i])+\" + \"+str(k1[i])+\"/2.0))\")\n",
    "        #print(\"k2 = \" + str(k2[i]))\n",
    "        \n",
    "        k3a[i] = h * f1((t + h/2.0), (w1[i] + k2a[i]/2.0))\n",
    "        k3b[i] = h * f2((t + h/2.0), (w2[i] + k2b[i]/2.0))\n",
    "        #print(\"k3 = h * f((t + h/2.0), (w1[i] + k2[i]/2.0))\")\n",
    "        #print(\"k3 = \"+str(h)+\" * f((\"+str(t)+\" + \"+str(h)+\"/2.0), (\"+str(w1[i])+\" + \"+str(k2[i])+\"/2.0))\")\n",
    "        #print(\"k3 = \" + str(k3[i]))\n",
    "        \n",
    "        k4a[i] = h * f1((t + h), (w1[i] + k3a[i])) \n",
    "        k4b[i] = h * f1((t + h), (w2[i] + k3b[i])) \n",
    "        #print(\"k4 = h * f((t + h), (w1[i] + k3[i])) \")\n",
    "        #print(\"k4 = \"+str(h)+\" * f((\"+str(t)+\" + \"+str(h)+\"), (\"+str(w1[i])+\" + \"+str(k3[i])+\")) \")\n",
    "        #print(k4[i])\n",
    "        \n",
    "        w1[i] = w1[i] + (k1a[i] + (2.0 * k2a[i]) + (2.0 * k3a[i]) + k4a[i])/6.0\n",
    "        w2[i] = w2[i] + (k1b[i] + (2.0 * k2b[i]) + (2.0 * k3b[i]) + k4b[i])/6.0\n",
    "        #print(\"w1[i] = w1[i] + (k1 + (2.0 * k2) + (2.0 * k3) + k4[i])/6.0\")\n",
    "        #print(\"w1[i] = \"+str(2)+\" + (\"+str(k1[i])+\" + (2.0 * \"+ str(k2[i])+ \") + (2.0 * \"+ str(k3[i])+ \") + \"+ str(k4[i])+ \")/6.0\")\n",
    "        \n",
    "        t = a + (i * h)\n",
    "    return (t, w1, w2)"
   ]
  },
  {
   "cell_type": "code",
   "execution_count": 119,
   "metadata": {},
   "outputs": [
    {
     "data": {
      "text/plain": [
       "(0.0, [1.980197849900333], [1.980197849900333])"
      ]
     },
     "execution_count": 119,
     "metadata": {},
     "output_type": "execute_result"
    }
   ],
   "source": [
    "RungeKuttaOF(0.0, 0.1, 1, 2.0)"
   ]
  },
  {
   "cell_type": "code",
   "execution_count": null,
   "metadata": {},
   "outputs": [],
   "source": []
  }
 ],
 "metadata": {
  "kernelspec": {
   "display_name": "Python 3",
   "language": "python",
   "name": "python3"
  },
  "language_info": {
   "codemirror_mode": {
    "name": "ipython",
    "version": 3
   },
   "file_extension": ".py",
   "mimetype": "text/x-python",
   "name": "python",
   "nbconvert_exporter": "python",
   "pygments_lexer": "ipython3",
   "version": "3.6.4"
  }
 },
 "nbformat": 4,
 "nbformat_minor": 2
}
