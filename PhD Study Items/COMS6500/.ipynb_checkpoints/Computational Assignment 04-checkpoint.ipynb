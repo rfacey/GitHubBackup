{
 "cells": [
  {
   "cell_type": "markdown",
   "metadata": {},
   "source": [
    "## Page 281 Question 13 a"
   ]
  },
  {
   "cell_type": "markdown",
   "metadata": {},
   "source": [
    "gallons = (0.02 \\* 1000 \\* 5)/50"
   ]
  },
  {
   "cell_type": "code",
   "execution_count": 52,
   "metadata": {},
   "outputs": [],
   "source": [
    "gpm = (0.02 * 1000 * 5)/50"
   ]
  },
  {
   "cell_type": "code",
   "execution_count": 53,
   "metadata": {},
   "outputs": [
    {
     "name": "stdout",
     "output_type": "stream",
     "text": [
      "gallons per minute = 2.0\n"
     ]
    }
   ],
   "source": [
    "print(\"gallons per minute = \" + str(gpm))"
   ]
  },
  {
   "cell_type": "markdown",
   "metadata": {},
   "source": [
    "Current water in tank is 1000 gallons. 1010 gallons - 1000 gallons = 10 gallons. Solving for when the tank will have an additional 10 gallons."
   ]
  },
  {
   "cell_type": "code",
   "execution_count": 54,
   "metadata": {},
   "outputs": [],
   "source": [
    "requiredGallons = 10"
   ]
  },
  {
   "cell_type": "code",
   "execution_count": 55,
   "metadata": {},
   "outputs": [
    {
     "name": "stdout",
     "output_type": "stream",
     "text": [
      "The tank will hold 1010 gallons of salt water after 5.0 minutes.\n"
     ]
    }
   ],
   "source": [
    "print(\"The tank will hold 1010 gallons of salt water after \" + \\\n",
    "      str(requiredGallons / gpm) + \" minutes.\")"
   ]
  },
  {
   "cell_type": "code",
   "execution_count": 6,
   "metadata": {},
   "outputs": [],
   "source": [
    "def TaylorFour(x,h,t):\n",
    "    yp = -t*x**2\n",
    "    print(\"yp = -t * x**2\")\n",
    "    print(\"yp = -\"+str(t)+\"*\"+str(x)+\"**2\")\n",
    "    print(\"yp = \" + str(yp))\n",
    "    \n",
    "    ypp = 2 * t**2 * x**3 - x**2\n",
    "    print(\"ypp =2 * t**2 * x**3 - x**2\")\n",
    "    print(\"ypp = 2 * \"+str(t)+\"**2 * \"+str(x)+\"**3 - \"+str(x)+\"**2\")\n",
    "    print(\"ypp = \" + str(ypp))\n",
    "    \n",
    "    yppp = -6 * t**3 * x**4 + 6 * t * x**3\n",
    "    print(\"yppp = -6 * t**3 * x**4 + 6 * t * x**3\")\n",
    "    print(\"yppp = -6 * \"+str(t)+\"**3 * \"+str(x)+\"**4 + 6 * \"+str(t)+\" * \"+str(x)+\"**3\")\n",
    "    print(\"yppp = \" + str(yppp))\n",
    "    \n",
    "    ypppp = -2*t - 4*x\n",
    "    print(\"yppp = 24 * t**4 * x**5 - 36 * t**2 * x**4 + 6 * x**3\")\n",
    "    print(\"yppp = 24 * \"+str(t)+\"**4 * \"+str(x)+\"**5 - 36 * \"+str(t)+\"**2 * \"+str(x)+\"**4 + 6 * \"+str(x)+\"**3\")\n",
    "    print(\"yppp = \" + str(yppp))\n",
    "    \n",
    "    result = x + h*yp + (h**2 / 2)*ypp + (h**3 / 6)*yppp + (h**4 / 24)*ypppp\n",
    "    print(\"result = x + h*yp + (h**2 / 2)*ypp + (h**3 / 6)*yppp + (h**4 / 24)*ypppp\") \n",
    "    print(\"result = \"+str(x)+\" + \"+str(h)+\"*\"+str(yp)+\" + (\"+str(h)+\"**2 / 2)*\"+str(ypp)+\" + (\"+str(h)+\"**3 / 6)*\"+str(yppp)+\" + (\"+str(h)+\"**4 / 24)*\"+str(ypppp)+\"\")\n",
    "    \n",
    "    return result"
   ]
  },
  {
   "cell_type": "code",
   "execution_count": 7,
   "metadata": {},
   "outputs": [
    {
     "name": "stdout",
     "output_type": "stream",
     "text": [
      "yp = -t * x**2\n",
      "yp = -0*2**2\n",
      "yp = 0\n",
      "ypp =2 * t**2 * x**3 - x**2\n",
      "ypp = 2 * 0**2 * 2**3 - 2**2\n",
      "ypp = -4\n",
      "yppp = -6 * t**3 * x**4 + 6 * t * x**3\n",
      "yppp = -6 * 0**3 * 2**4 + 6 * 0 * 2**3\n",
      "yppp = 0\n",
      "yppp = 24 * t**4 * x**5 - 36 * t**2 * x**4 + 6 * x**3\n",
      "yppp = 24 * 0**4 * 2**5 - 36 * 0**2 * 2**4 + 6 * 2**3\n",
      "yppp = 0\n",
      "result = x + h*yp + (h**2 / 2)*ypp + (h**3 / 6)*yppp + (h**4 / 24)*ypppp\n",
      "result = 2 + 0.1*0 + (0.1**2 / 2)*-4 + (0.1**3 / 6)*0 + (0.1**4 / 24)*-8\n"
     ]
    },
    {
     "data": {
      "text/plain": [
       "1.9799666666666667"
      ]
     },
     "execution_count": 7,
     "metadata": {},
     "output_type": "execute_result"
    }
   ],
   "source": [
    "TaylorFour(2,0.1,0)"
   ]
  },
  {
   "cell_type": "code",
   "execution_count": null,
   "metadata": {},
   "outputs": [],
   "source": [
    "TaylorFour(50,0.5,5)"
   ]
  },
  {
   "cell_type": "code",
   "execution_count": 60,
   "metadata": {},
   "outputs": [
    {
     "data": {
      "text/plain": [
       "49.97579728518067"
      ]
     },
     "execution_count": 60,
     "metadata": {},
     "output_type": "execute_result"
    }
   ],
   "source": [
    "TaylorFour(50,0.5,5)"
   ]
  },
  {
   "cell_type": "markdown",
   "metadata": {},
   "source": [
    "## Page 292 Question 27"
   ]
  },
  {
   "cell_type": "code",
   "execution_count": 49,
   "metadata": {},
   "outputs": [],
   "source": [
    "def RungeKuttaOF(a, b, n, alpha):\n",
    "    h = (b - a)/n\n",
    "    t = a\n",
    "    w = alpha\n",
    "    for i in range(1, n + 1): \n",
    "        k1 = h * f(t,w) \n",
    "        print(\"k1 = h * f(t,w) \")\n",
    "        print(\"k1 = \"+str(h)+\" * f(\"+str(t)+\",\"+str(w)+\") \")\n",
    "        print(\"k1 = \" + str(k1))\n",
    "        \n",
    "        k2 = h * f((t + h/2.0), (w + k1/2.0)) \n",
    "        print(\"k2 = h * f((t + h/2.0), (w + k1/2.0))\")\n",
    "        print(\"k2 = \"+str(h)+\" * f((\"+str(t)+\" + \"+str(h)+\"/2.0), (\"+str(w)+\" + \"+str(k1)+\"/2.0))\")\n",
    "        print(\"k2 = \" + str(k2))\n",
    "        \n",
    "        k3 = h * f((t + h/2.0), (w + k2/2.0))\n",
    "        print(\"k3 = h * f((t + h/2.0), (w + k2/2.0))\")\n",
    "        print(\"k3 = \"+str(h)+\" * f((\"+str(t)+\" + \"+str(h)+\"/2.0), (\"+str(w)+\" + \"+str(k2)+\"/2.0))\")\n",
    "        print(\"k3 = \" + str(k3))\n",
    "        \n",
    "        k4 = h * f((t + h), (w + k3)) \n",
    "        print(\"k4 = h * f((t + h), (w + k3)) \")\n",
    "        print(\"k4 = \"+str(h)+\" * f((\"+str(t)+\" + \"+str(h)+\"), (\"+str(w)+\" + \"+str(k3)+\")) \")\n",
    "        print(k4)\n",
    "        \n",
    "        w = w + (k1 + (2.0 * k2) + (2.0 * k3) + k4)/6.0\n",
    "        print(\"w = w + (k1 + (2.0 * k2) + (2.0 * k3) + k4)/6.0\")\n",
    "        print(\"w = \"+str(2)+\" + (\"+str(k1)+\" + (2.0 * \"+ str(k2)+ \") + (2.0 * \"+ str(k3)+ \") + \"+ str(k4)+ \")/6.0\")\n",
    "        \n",
    "        t = a + (i * h)\n",
    "    return (t, w)"
   ]
  },
  {
   "cell_type": "code",
   "execution_count": 50,
   "metadata": {},
   "outputs": [],
   "source": [
    "def f(t,x):\n",
    "    return -t*x**2"
   ]
  },
  {
   "cell_type": "code",
   "execution_count": 52,
   "metadata": {},
   "outputs": [
    {
     "name": "stdout",
     "output_type": "stream",
     "text": [
      "k1 = h * f(t,w) \n",
      "k1 = 0.1 * f(0.0,2.0) \n",
      "k1 = -0.0\n",
      "k2 = h * f((t + h/2.0), (w + k1/2.0))\n",
      "k2 = 0.1 * f((0.0 + 0.1/2.0), (2.0 + -0.0/2.0))\n",
      "k2 = -0.020000000000000004\n",
      "k3 = h * f((t + h/2.0), (w + k2/2.0))\n",
      "k3 = 0.1 * f((0.0 + 0.1/2.0), (2.0 + -0.020000000000000004/2.0))\n",
      "k3 = -0.019800500000000002\n",
      "k4 = h * f((t + h), (w + k3)) \n",
      "k4 = 0.1 * f((0.0 + 0.1), (2.0 + -0.019800500000000002)) \n",
      "-0.0392119005980025\n",
      "w = w + (k1 + (2.0 * k2) + (2.0 * k3) + k4)/6.0\n",
      "w = 2 + (-0.0 + (2.0 * -0.020000000000000004) + (2.0 * -0.019800500000000002) + -0.0392119005980025)/6.0\n"
     ]
    },
    {
     "data": {
      "text/plain": [
       "(0.1, 1.980197849900333)"
      ]
     },
     "execution_count": 52,
     "metadata": {},
     "output_type": "execute_result"
    }
   ],
   "source": [
    "RungeKuttaOF(0.0, 0.1, 1, 2.0)"
   ]
  },
  {
   "cell_type": "markdown",
   "metadata": {},
   "source": [
    "Do not change. Test run from page 289"
   ]
  },
  {
   "cell_type": "code",
   "execution_count": 46,
   "metadata": {},
   "outputs": [],
   "source": [
    "def f(t,y):\n",
    "    return y - t**2 + 1"
   ]
  },
  {
   "cell_type": "code",
   "execution_count": 47,
   "metadata": {},
   "outputs": [
    {
     "data": {
      "text/plain": [
       "(2.0, 5.305363000692653)"
      ]
     },
     "execution_count": 47,
     "metadata": {},
     "output_type": "execute_result"
    }
   ],
   "source": [
    "RungeKuttaOF(0, 2, 10, 0.5)"
   ]
  },
  {
   "cell_type": "code",
   "execution_count": 48,
   "metadata": {
    "scrolled": true
   },
   "outputs": [
    {
     "data": {
      "text/plain": [
       "1.5"
      ]
     },
     "execution_count": 48,
     "metadata": {},
     "output_type": "execute_result"
    }
   ],
   "source": [
    "f(0,0.5)"
   ]
  },
  {
   "cell_type": "markdown",
   "metadata": {},
   "source": [
    "End test run"
   ]
  },
  {
   "cell_type": "code",
   "execution_count": 49,
   "metadata": {},
   "outputs": [],
   "source": [
    "k = 6.22 * 10**(-19)\n",
    "n1 = 2 * 10**(3)\n",
    "n2 = 2 * 10**(3)\n",
    "n3 = 3 * 10**(3)"
   ]
  },
  {
   "cell_type": "code",
   "execution_count": 50,
   "metadata": {},
   "outputs": [],
   "source": [
    "def f(t,x):\n",
    "    return k * (((n1-(x/2.0))**(2.0) * (n2-(x/2.0))**(2.0) * (n3-(3.0*x/4.0))**(3.0)))"
   ]
  },
  {
   "cell_type": "code",
   "execution_count": 51,
   "metadata": {
    "scrolled": true
   },
   "outputs": [
    {
     "data": {
      "text/plain": [
       "(0.2, 2079.4083752829647)"
      ]
     },
     "execution_count": 51,
     "metadata": {},
     "output_type": "execute_result"
    }
   ],
   "source": [
    "RungeKuttaOF(0, 0.2, 1000, 0)"
   ]
  },
  {
   "cell_type": "code",
   "execution_count": null,
   "metadata": {},
   "outputs": [],
   "source": []
  },
  {
   "cell_type": "code",
   "execution_count": null,
   "metadata": {},
   "outputs": [],
   "source": []
  }
 ],
 "metadata": {
  "kernelspec": {
   "display_name": "Python 3",
   "language": "python",
   "name": "python3"
  },
  "language_info": {
   "codemirror_mode": {
    "name": "ipython",
    "version": 3
   },
   "file_extension": ".py",
   "mimetype": "text/x-python",
   "name": "python",
   "nbconvert_exporter": "python",
   "pygments_lexer": "ipython3",
   "version": "3.6.4"
  }
 },
 "nbformat": 4,
 "nbformat_minor": 2
}
