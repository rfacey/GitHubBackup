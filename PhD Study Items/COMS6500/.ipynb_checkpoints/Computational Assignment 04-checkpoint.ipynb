{
 "cells": [
  {
   "cell_type": "markdown",
   "metadata": {},
   "source": [
    "Assignment Q#1\n",
    "\n",
    "Q#13 page 281 of the text book.\n",
    "\n",
    "( This involves Taylors method)\n",
    "\n",
    "Assignment Q#2\n",
    "\n",
    "Q#27 page 292 of the text book\n",
    "\n",
    "This involves 4th order R-K Method  which I’ll do on Monday)\n",
    "\n",
    "This is due on 11/16 /2020 11:59 p.m. under unusual circumstances not later than 11/17/2020 11:59 p.m."
   ]
  },
  {
   "cell_type": "markdown",
   "metadata": {},
   "source": [
    "## Page 281 Question 13 a"
   ]
  },
  {
   "cell_type": "markdown",
   "metadata": {},
   "source": [
    "gallons = (0.02 \\* 1000 \\* 5)/50"
   ]
  },
  {
   "cell_type": "code",
   "execution_count": 7,
   "metadata": {},
   "outputs": [],
   "source": [
    "gpm = (0.02 * 1000 * 5)/50"
   ]
  },
  {
   "cell_type": "code",
   "execution_count": 8,
   "metadata": {},
   "outputs": [
    {
     "name": "stdout",
     "output_type": "stream",
     "text": [
      "gallons per minute = 2.0\n"
     ]
    }
   ],
   "source": [
    "print(\"gallons per minute = \" + str(gpm))"
   ]
  },
  {
   "cell_type": "markdown",
   "metadata": {},
   "source": [
    "Current water in tank is 1000 gallons. 1010 gallons - 1000 gallons = 10 gallons. Solving for when the tank will have an additional 10 gallons."
   ]
  },
  {
   "cell_type": "code",
   "execution_count": 9,
   "metadata": {},
   "outputs": [],
   "source": [
    "requiredGallons = 10"
   ]
  },
  {
   "cell_type": "code",
   "execution_count": 11,
   "metadata": {},
   "outputs": [
    {
     "name": "stdout",
     "output_type": "stream",
     "text": [
      "The tank will hold 1010 gallons of salt water after 5.0 minutes.\n"
     ]
    }
   ],
   "source": [
    "print(\"The tank will hold 1010 gallons of salt water after \" + \\\n",
    "      str(requiredGallons / gpm) + \" minutes.\")"
   ]
  },
  {
   "cell_type": "code",
   "execution_count": 65,
   "metadata": {},
   "outputs": [],
   "source": [
    "def TaylorFour(xi,h,t):\n",
    "    yp = 0.1 - (3*xi)/(1000 + 2*t)\n",
    "    ypp = (3*xi)/((1000 + 2*t)**2)\n",
    "    yppp = (-24*xi)/((1000 + 2*t)**3)\n",
    "    ypppp = (144*xi)/((1000 + 2*t)**4)\n",
    "    \n",
    "    result = xi + h*(yp + (h/2)*ypp + ((h**2)/6)*yppp + ((h**3)/24)*ypppp)\n",
    "    \n",
    "    return result"
   ]
  },
  {
   "cell_type": "code",
   "execution_count": 68,
   "metadata": {},
   "outputs": [
    {
     "data": {
      "text/plain": [
       "49.97576093056162"
      ]
     },
     "execution_count": 68,
     "metadata": {},
     "output_type": "execute_result"
    }
   ],
   "source": [
    "TaylorFour(50,0.5,5)"
   ]
  },
  {
   "cell_type": "markdown",
   "metadata": {},
   "source": [
    "## Page 292 Question 27"
   ]
  },
  {
   "cell_type": "code",
   "execution_count": 36,
   "metadata": {},
   "outputs": [],
   "source": [
    "def RungeKuttaOF(a, b, n, alpha):\n",
    "    h = (b - a)/n\n",
    "    t = a\n",
    "    w = alpha\n",
    "    for i in range(1, n + 1): \n",
    "        k1 = h * f(t,w) \n",
    "        k2 = h * f(t + h/2, w + k1/2) \n",
    "        k3 = h * f(t + h/2, w + k2/2) \n",
    "        k4 = h * f(t + h, w + k3) \n",
    "        \n",
    "        w = w + (k1 + 2*k2 + 2*k3 + k4)/6\n",
    "        \n",
    "        t = a + i*h\n",
    "    return (t, w)"
   ]
  },
  {
   "cell_type": "markdown",
   "metadata": {},
   "source": [
    "Do not change. Test run from page 289"
   ]
  },
  {
   "cell_type": "code",
   "execution_count": 21,
   "metadata": {},
   "outputs": [],
   "source": [
    "def f(t,y):\n",
    "    return y - t**2 + 1"
   ]
  },
  {
   "cell_type": "code",
   "execution_count": 22,
   "metadata": {},
   "outputs": [
    {
     "data": {
      "text/plain": [
       "(2.0, 5.305363000692653)"
      ]
     },
     "execution_count": 22,
     "metadata": {},
     "output_type": "execute_result"
    }
   ],
   "source": [
    "RungeKuttaOF(0, 2, 10, 0.5)"
   ]
  },
  {
   "cell_type": "code",
   "execution_count": 23,
   "metadata": {
    "scrolled": true
   },
   "outputs": [
    {
     "data": {
      "text/plain": [
       "1.5"
      ]
     },
     "execution_count": 23,
     "metadata": {},
     "output_type": "execute_result"
    }
   ],
   "source": [
    "f(0,0.5)"
   ]
  },
  {
   "cell_type": "markdown",
   "metadata": {},
   "source": [
    "End test run"
   ]
  },
  {
   "cell_type": "code",
   "execution_count": 32,
   "metadata": {},
   "outputs": [],
   "source": [
    "k = 6.22 * 10**(-19)\n",
    "n1 = 2 * 10**(3)\n",
    "n2 = 2 * 10**(3)\n",
    "n3 = 3 * 10**(3)"
   ]
  },
  {
   "cell_type": "code",
   "execution_count": 35,
   "metadata": {},
   "outputs": [],
   "source": [
    "def f(x,t):\n",
    "    return k * ((n1-(x/2))**(2) * (n2-(x/2))**(2) * (n3-((3*x)/4))**(3)))"
   ]
  },
  {
   "cell_type": "code",
   "execution_count": 39,
   "metadata": {},
   "outputs": [
    {
     "data": {
      "text/plain": [
       "268704.0"
      ]
     },
     "execution_count": 39,
     "metadata": {},
     "output_type": "execute_result"
    }
   ],
   "source": [
    "f(0,1)"
   ]
  },
  {
   "cell_type": "code",
   "execution_count": 40,
   "metadata": {
    "scrolled": true
   },
   "outputs": [
    {
     "data": {
      "text/plain": [
       "(1.0, 268704.9991235798)"
      ]
     },
     "execution_count": 40,
     "metadata": {},
     "output_type": "execute_result"
    }
   ],
   "source": [
    "RungeKuttaOF(0, 1, 5, 268704.0)"
   ]
  },
  {
   "cell_type": "code",
   "execution_count": null,
   "metadata": {},
   "outputs": [],
   "source": []
  }
 ],
 "metadata": {
  "kernelspec": {
   "display_name": "Python 3",
   "language": "python",
   "name": "python3"
  },
  "language_info": {
   "codemirror_mode": {
    "name": "ipython",
    "version": 3
   },
   "file_extension": ".py",
   "mimetype": "text/x-python",
   "name": "python",
   "nbconvert_exporter": "python",
   "pygments_lexer": "ipython3",
   "version": "3.6.4"
  }
 },
 "nbformat": 4,
 "nbformat_minor": 2
}
