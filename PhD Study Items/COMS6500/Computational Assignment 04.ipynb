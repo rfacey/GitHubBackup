{
 "cells": [
  {
   "cell_type": "markdown",
   "metadata": {},
   "source": [
    "## Page 281 Question 13 a"
   ]
  },
  {
   "cell_type": "markdown",
   "metadata": {},
   "source": [
    "gallons = (0.02 \\* 1000 \\* 5)/50"
   ]
  },
  {
   "cell_type": "code",
   "execution_count": 52,
   "metadata": {},
   "outputs": [],
   "source": [
    "gpm = (0.02 * 1000 * 5)/50"
   ]
  },
  {
   "cell_type": "code",
   "execution_count": 53,
   "metadata": {},
   "outputs": [
    {
     "name": "stdout",
     "output_type": "stream",
     "text": [
      "gallons per minute = 2.0\n"
     ]
    }
   ],
   "source": [
    "print(\"gallons per minute = \" + str(gpm))"
   ]
  },
  {
   "cell_type": "markdown",
   "metadata": {},
   "source": [
    "Current water in tank is 1000 gallons. 1010 gallons - 1000 gallons = 10 gallons. Solving for when the tank will have an additional 10 gallons."
   ]
  },
  {
   "cell_type": "code",
   "execution_count": 54,
   "metadata": {},
   "outputs": [],
   "source": [
    "requiredGallons = 10"
   ]
  },
  {
   "cell_type": "code",
   "execution_count": 55,
   "metadata": {},
   "outputs": [
    {
     "name": "stdout",
     "output_type": "stream",
     "text": [
      "The tank will hold 1010 gallons of salt water after 5.0 minutes.\n"
     ]
    }
   ],
   "source": [
    "print(\"The tank will hold 1010 gallons of salt water after \" + \\\n",
    "      str(requiredGallons / gpm) + \" minutes.\")"
   ]
  },
  {
   "cell_type": "code",
   "execution_count": 59,
   "metadata": {},
   "outputs": [],
   "source": [
    "def TaylorFour(xi,h,t):\n",
    "    yp = (0.1 - (3.0 * xi)/(1000.0 + 2.0 * t))\n",
    "    ypp = (15.0 * xi - 0.6 * t - 300)/((1000 + 2.0 * t)**2)\n",
    "    yppp = (-105.0 * xi + 4.2 * t + 2100)/((1000.0  + 2.0 * t)**3)\n",
    "    ypppp = (945.0 * xi + 37.8 * t + 13230)/((1000.0  + 2.0 * t)**4)\n",
    "    \n",
    "    result = xi + h*(yp + (h/2.0)*ypp + ((h**2.0)/6.0)*yppp + ((h**3.0)/24.0)*ypppp)\n",
    "    \n",
    "    return result"
   ]
  },
  {
   "cell_type": "code",
   "execution_count": 60,
   "metadata": {},
   "outputs": [
    {
     "data": {
      "text/plain": [
       "49.97579728518067"
      ]
     },
     "execution_count": 60,
     "metadata": {},
     "output_type": "execute_result"
    }
   ],
   "source": [
    "TaylorFour(50,0.5,5)"
   ]
  },
  {
   "cell_type": "markdown",
   "metadata": {},
   "source": [
    "## Page 292 Question 27"
   ]
  },
  {
   "cell_type": "code",
   "execution_count": 45,
   "metadata": {},
   "outputs": [],
   "source": [
    "def RungeKuttaOF(a, b, n, alpha):\n",
    "    h = (b - a)/n\n",
    "    t = a\n",
    "    w = alpha\n",
    "    for i in range(1, n + 1): \n",
    "        k1 = h * f(t,w) \n",
    "        k2 = h * f((t + h/2.0), (w + k1/2.0)) \n",
    "        k3 = h * f((t + h/2.0), (w + k2/2.0))\n",
    "        k4 = h * f((t + h), (w + k3)) \n",
    "        \n",
    "        w = w + (k1 + (2.0 * k2) + (2.0 * k3) + k4)/6.0\n",
    "        \n",
    "        t = a + (i * h)\n",
    "    return (t, w)"
   ]
  },
  {
   "cell_type": "markdown",
   "metadata": {},
   "source": [
    "Do not change. Test run from page 289"
   ]
  },
  {
   "cell_type": "code",
   "execution_count": 46,
   "metadata": {},
   "outputs": [],
   "source": [
    "def f(t,y):\n",
    "    return y - t**2 + 1"
   ]
  },
  {
   "cell_type": "code",
   "execution_count": 47,
   "metadata": {},
   "outputs": [
    {
     "data": {
      "text/plain": [
       "(2.0, 5.305363000692653)"
      ]
     },
     "execution_count": 47,
     "metadata": {},
     "output_type": "execute_result"
    }
   ],
   "source": [
    "RungeKuttaOF(0, 2, 10, 0.5)"
   ]
  },
  {
   "cell_type": "code",
   "execution_count": 48,
   "metadata": {
    "scrolled": true
   },
   "outputs": [
    {
     "data": {
      "text/plain": [
       "1.5"
      ]
     },
     "execution_count": 48,
     "metadata": {},
     "output_type": "execute_result"
    }
   ],
   "source": [
    "f(0,0.5)"
   ]
  },
  {
   "cell_type": "markdown",
   "metadata": {},
   "source": [
    "End test run"
   ]
  },
  {
   "cell_type": "code",
   "execution_count": 49,
   "metadata": {},
   "outputs": [],
   "source": [
    "k = 6.22 * 10**(-19)\n",
    "n1 = 2 * 10**(3)\n",
    "n2 = 2 * 10**(3)\n",
    "n3 = 3 * 10**(3)"
   ]
  },
  {
   "cell_type": "code",
   "execution_count": 50,
   "metadata": {},
   "outputs": [],
   "source": [
    "def f(t,x):\n",
    "    return k * (((n1-(x/2.0))**(2.0) * (n2-(x/2.0))**(2.0) * (n3-(3.0*x/4.0))**(3.0)))"
   ]
  },
  {
   "cell_type": "code",
   "execution_count": 51,
   "metadata": {
    "scrolled": true
   },
   "outputs": [
    {
     "data": {
      "text/plain": [
       "(0.2, 2079.4083752829647)"
      ]
     },
     "execution_count": 51,
     "metadata": {},
     "output_type": "execute_result"
    }
   ],
   "source": [
    "RungeKuttaOF(0, 0.2, 1000, 0)"
   ]
  },
  {
   "cell_type": "code",
   "execution_count": null,
   "metadata": {},
   "outputs": [],
   "source": []
  },
  {
   "cell_type": "code",
   "execution_count": null,
   "metadata": {},
   "outputs": [],
   "source": []
  }
 ],
 "metadata": {
  "kernelspec": {
   "display_name": "Python 3",
   "language": "python",
   "name": "python3"
  },
  "language_info": {
   "codemirror_mode": {
    "name": "ipython",
    "version": 3
   },
   "file_extension": ".py",
   "mimetype": "text/x-python",
   "name": "python",
   "nbconvert_exporter": "python",
   "pygments_lexer": "ipython3",
   "version": "3.6.4"
  }
 },
 "nbformat": 4,
 "nbformat_minor": 2
}
