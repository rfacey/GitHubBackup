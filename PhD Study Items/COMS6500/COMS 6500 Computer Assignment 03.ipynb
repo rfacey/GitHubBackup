{
 "cells": [
  {
   "cell_type": "code",
   "execution_count": 1,
   "metadata": {},
   "outputs": [],
   "source": [
    "import numpy as np\n",
    "from matplotlib import pyplot as plt\n",
    "import matplotlib\n",
    "from math import sqrt\n",
    "\n",
    "x = [0, 2, 4, 6, 8, 10, 12, 14, 16, 18, 20, 22, 24]\n",
    "\n",
    "y = [59, 56, 53, 54, 60, 67, 72, 74, 75, 74, 70, 65, 61]"
   ]
  },
  {
   "cell_type": "code",
   "execution_count": 52,
   "metadata": {},
   "outputs": [],
   "source": [
    "#Newton’s Divided difference, produces coefficients of interpolating polynomial\n",
    "def coef(x,y):\n",
    "    n = len(x)\n",
    "    a = np.zeros((n,n+1))\n",
    "    a[:,0]= x\n",
    "    a[:,1]= y\n",
    "#Find the divided differences\n",
    "    for j in range(2,n+1):\n",
    "        for i in range(j-1,n):\n",
    "            a[i,j] = (a[i,j-1]-a[i-1,j-1]) / (a[i,0]-a[i-j+1,0])\n",
    "#Copy diagonal elements into array for returning\n",
    "    p = np.zeros(n)\n",
    "    for k in range(0,n):\n",
    "        p[k] = a[k,k+1]\n",
    "    return p\n",
    "\n",
    "#Evaluate polynomial at a given point\n",
    "def newton_method(t,x,p):\n",
    "    n = len(x)\n",
    "    result = p[n-1]\n",
    "    for i in range(n-2,-1,-1):\n",
    "        result = result*(t-x[i]) + p[i]\n",
    "    return result"
   ]
  },
  {
   "cell_type": "code",
   "execution_count": 53,
   "metadata": {},
   "outputs": [],
   "source": [
    "def nat_cubic_spline(x0, x, y):\n",
    "    x = np.array(x)\n",
    "    y = np.array(y)\n",
    "\n",
    "    n = len(x)\n",
    "\n",
    "    #Find change between each x and y\n",
    "    xdiff = np.diff(x)\n",
    "    ydiff = np.diff(y)\n",
    "\n",
    "    #Initialize matrices\n",
    "    Li = np.empty(n)\n",
    "    Li_1 = np.empty(n-1)\n",
    "    z = np.empty(n)\n",
    "\n",
    "    #Step 3\n",
    "    Li[0] = sqrt(2*xdiff[0])\n",
    "    Li_1[0] = 0.0\n",
    "    B0 = 0.0 # natural boundary\n",
    "    z[0] = B0 / Li[0]\n",
    "\n",
    "    #Step 4a\n",
    "    for i in range(1, n-1, 1):\n",
    "        Li_1[i] = xdiff[i-1] / Li[i-1]\n",
    "        Li[i] = sqrt(2*(xdiff[i-1]+xdiff[i]) - Li_1[i-1] * Li_1[i-1])\n",
    "        Bi = 6*(ydiff[i]/xdiff[i] - ydiff[i-1]/xdiff[i-1])\n",
    "        z[i] = (Bi - Li_1[i-1]*z[i-1])/Li[i]\n",
    "\n",
    "    #Step 4b\n",
    "    i = n - 1\n",
    "    Li_1[i-1] = xdiff[-1] / Li[i-1]\n",
    "    Li[i] = sqrt(2*xdiff[-1] - Li_1[i-1] * Li_1[i-1])\n",
    "    Bi = 0.0 # natural boundary\n",
    "    z[i] = (Bi - Li_1[i-1]*z[i-1])/Li[i]\n",
    "\n",
    "    #Step 6\n",
    "    i = n-1\n",
    "    z[i] = z[i] / Li[i]\n",
    "    for i in range(n-2, -1, -1):\n",
    "        z[i] = (z[i] - Li_1[i-1]*z[i+1])/Li[i]\n",
    "\n",
    "    # find index\n",
    "    index = x.searchsorted(x0)\n",
    "    np.clip(index, 1, n-1, index)\n",
    "\n",
    "    xi1, xi0 = x[index], x[index-1]\n",
    "    yi1, yi0 = y[index], y[index-1]\n",
    "    zi1, zi0 = z[index], z[index-1]\n",
    "    hi1 = xi1 - xi0\n",
    "\n",
    "    # calculate cubic\n",
    "    f0 = zi0/(6*hi1)*(xi1-x0)**3 + \\\n",
    "         zi1/(6*hi1)*(x0-xi0)**3 + \\\n",
    "         (yi1/hi1 - zi1*hi1/6)*(x0-xi0) + \\\n",
    "         (yi0/hi1 - zi0*hi1/6)*(xi1-x0)\n",
    "    return f0"
   ]
  },
  {
   "cell_type": "markdown",
   "metadata": {},
   "source": [
    "## Question 01"
   ]
  },
  {
   "cell_type": "code",
   "execution_count": 54,
   "metadata": {},
   "outputs": [
    {
     "data": {
      "image/png": "[encoded data removed]",
      "text/plain": [
       "<matplotlib.figure.Figure at 0x1b46fc3f4a8>"
      ]
     },
     "metadata": {},
     "output_type": "display_data"
    }
   ],
   "source": [
    "a = coef(x,y)\n",
    "graphRange = np.linspace(min(x),max(x))\n",
    "yval = newton_method(graphRange,x,a)\n",
    "plt.plot(graphRange,yval,color='b',linestyle='-',label='Newton Method')\n",
    "plt.plot(graphRange, nat_cubic_spline(graphRange, x, y),color='k',linestyle='-',label='Natural Cubic Spline')\n",
    "plt.title('Interpolation')\n",
    "plt.xlabel('Day')\n",
    "plt.ylabel('Temperature')\n",
    "plt.legend(loc='upper right')\n",
    "plt.show()"
   ]
  },
  {
   "cell_type": "markdown",
   "metadata": {},
   "source": [
    "## Question 02"
   ]
  },
  {
   "cell_type": "code",
   "execution_count": 55,
   "metadata": {},
   "outputs": [
    {
     "data": {
      "text/plain": [
       "69.91312909126282"
      ]
     },
     "execution_count": 55,
     "metadata": {},
     "output_type": "execute_result"
    }
   ],
   "source": [
    "newton_method(11,x,a)"
   ]
  },
  {
   "cell_type": "code",
   "execution_count": 56,
   "metadata": {},
   "outputs": [
    {
     "data": {
      "text/plain": [
       "array([69.88059715])"
      ]
     },
     "execution_count": 56,
     "metadata": {},
     "output_type": "execute_result"
    }
   ],
   "source": [
    "nat_cubic_spline([11], x, y)"
   ]
  },
  {
   "cell_type": "markdown",
   "metadata": {},
   "source": [
    "## Question 03"
   ]
  },
  {
   "cell_type": "code",
   "execution_count": 57,
   "metadata": {
    "scrolled": true
   },
   "outputs": [
    {
     "data": {
      "text/plain": [
       "152.04890751838786"
      ]
     },
     "execution_count": 57,
     "metadata": {},
     "output_type": "execute_result"
    }
   ],
   "source": [
    "newton_method(25,x,a)"
   ]
  },
  {
   "cell_type": "code",
   "execution_count": 58,
   "metadata": {},
   "outputs": [
    {
     "data": {
      "text/plain": [
       "array([58.81042242])"
      ]
     },
     "execution_count": 58,
     "metadata": {},
     "output_type": "execute_result"
    }
   ],
   "source": [
    "nat_cubic_spline([25], x, y)"
   ]
  },
  {
   "cell_type": "markdown",
   "metadata": {},
   "source": [
    "## Question 04"
   ]
  },
  {
   "cell_type": "code",
   "execution_count": 59,
   "metadata": {
    "scrolled": true
   },
   "outputs": [
    {
     "data": {
      "text/plain": [
       "869864.0000000001"
      ]
     },
     "execution_count": 59,
     "metadata": {},
     "output_type": "execute_result"
    }
   ],
   "source": [
    "newton_method(34,x,a)"
   ]
  },
  {
   "cell_type": "code",
   "execution_count": 60,
   "metadata": {},
   "outputs": [
    {
     "data": {
      "text/plain": [
       "array([-34.83102062])"
      ]
     },
     "execution_count": 60,
     "metadata": {},
     "output_type": "execute_result"
    }
   ],
   "source": [
    "nat_cubic_spline([34], x, y)"
   ]
  },
  {
   "cell_type": "markdown",
   "metadata": {},
   "source": [
    "## Troubleshooting // Debugging"
   ]
  },
  {
   "cell_type": "code",
   "execution_count": 202,
   "metadata": {},
   "outputs": [],
   "source": [
    "#Note: S(x) = S_j(x) = a_j + b_j(x - x_j) + c_j(x - x_j)^2 + d_j(x - x_j)^3 for x_j <= x <= x_j+1\n",
    "#INPUT n; x_0, x_1, ..., x_n; a_0 = f(x_0), a_1 = f(x_n)\n",
    "def nat_cubic_spline(x, y):\n",
    "    n= len(x)\n",
    "    h = [None] * n\n",
    "    a = y\n",
    "    l = [None] * n\n",
    "    u = [None] * n\n",
    "    z = [None] * n\n",
    "    c = [None] * n\n",
    "    b = [None] * n\n",
    "    d = [None] * n\n",
    "#STEP1 For i = 0, 1, ..., n - 1 set h_i = x_i+1 - x_i\n",
    "    for i in range(0, n - 1):\n",
    "        h[i] = x[i + 1] - x[i]\n",
    "#STEP2 For i = 1 2, ..., n - 1 set\n",
    "    #a_i = (3/h_i)(a_i+1 - a_i) - (3/h_i-1)(a_i - a_i-1)\n",
    "    for i in range (1, n - 1):\n",
    "        a[i] = (3/h[i]) * (a[i]+1 - a[i]) - (3/h[i-1]) * (a[i] - a[i-1])\n",
    "#STEP3 Set l_0 = 1;\n",
    "    # u_0 = 0;\n",
    "    # z_0 = 0;\n",
    "    l[0] = 1\n",
    "    u[0] = 0\n",
    "    z[0] = 0\n",
    "#STEP4 For i = 1, 2, ..., n - 1\n",
    "    #Set l_i = 2(x_i+1 - x_i-1) - h_i-1 * u_i-1\n",
    "    #u_i = h_i / l_i;\n",
    "    #z_i = (a_i - h_i-1 * z_i-1)/l_i\n",
    "    i = 1\n",
    "    while i < (n - 1):\n",
    "        l[i] = 2 * (x[i+1] - x[i-1]) - (h[i-1] * u[i-1])\n",
    "        u[i] = h[i] / l[i]\n",
    "        z[i] = (a[i] - h[i-1] * z[i-1])/l[i]\n",
    "        i = i + 1\n",
    "#STEP5 Set l_n = 1;\n",
    "    #z_n = 0;\n",
    "    #c_n = 0\n",
    "    l.append(1)\n",
    "    z.append(0)\n",
    "    c.append(0)\n",
    "#STEP6 For j = n-1, n-2, ..., 0\n",
    "    # set c_j = z_j - u_j * c_j+1;\n",
    "    # b_j = (a_j+1 - a_j)/h_j - h_j(c_j+1 + 2c_j)/3;\n",
    "    # d_j = (c_j+1 - c_j)/(3h_j).\n",
    "    j = n - 1\n",
    "    while j > 0:\n",
    "        c[j] = z[j] - u[j] * c[j+1]\n",
    "        b[j] = (a[j+1] - a[j])/h[j] - h[j]*(c[j+1] + 2*c[j])/3\n",
    "        d[j] = (c[j+1] - c[j])/(3*h[j])\n",
    "        j = j - 1\n",
    "#STEP7 OUTPUT (a_j, b_j, c_j, d_j for j = 0, 1, ..., n-1) STOP\n",
    "    for j in range(0, n-1):\n",
    "        return a[j]\n",
    "        return b[j]\n",
    "        return c[j]\n",
    "        return d[j]"
   ]
  },
  {
   "cell_type": "code",
   "execution_count": 53,
   "metadata": {},
   "outputs": [],
   "source": [
    "import numpy as np\n",
    "from matplotlib import pyplot as plt\n",
    "from scipy.interpolate import CubicSpline\n",
    "\n",
    "x = [0.9, 1.3, 1.9, 2.1, 2.6, 3.0, 3.9, 4.4, 4.7, 5.0, 6.0, 7.0, 8.0, 9.2, 10.5, 11.3, 11.6, 12.0, 12.6, 13.0, 13.3]\n",
    "\n",
    "y = [1.3, 1.5, 1.85, 2.1, 2.6, 2.7, 2.4, 2.15, 2.05, 2.1, 2.25, 2.3, 2.25, 1.95, 1.4, 0.9, 0.7, 0.6, 0.5, 0.4, 0.25]"
   ]
  },
  {
   "cell_type": "code",
   "execution_count": 54,
   "metadata": {},
   "outputs": [],
   "source": [
    "n= len(x)\n",
    "h = [None] * n\n",
    "a = y\n",
    "alpha = [None] * n\n",
    "l = [None] * n\n",
    "u = [None] * n\n",
    "z = [None] * n\n",
    "c = [None] * n\n",
    "b = [None] * n\n",
    "d = [None] * n\n",
    "for i in range(0, n - 1):\n",
    "    h[i] = x[i + 1] - x[i]\n",
    "for i in range (1, n - 1):\n",
    "    alpha[i] = (3/h[i]) * (a[i]+1 - a[i]) - (3/h[i-1]) * (a[i] - a[i-1])\n",
    "l[0] = 1\n",
    "u[0] = 0\n",
    "z[0] = 0\n",
    "i = 1\n",
    "for i in range (1, n - 1):\n",
    "    l[i] = 2 * (x[i+1] - x[i-1]) - (h[i-1] * u[i-1])\n",
    "    u[i] = h[i] / l[i]\n",
    "    z[i] = (alpha[i] - h[i-1] * z[i-1])/l[i]\n",
    "\n",
    "l[-1] = 1\n",
    "z[-1] = 0\n",
    "c[-1] = 0\n",
    "for j in range(n-2, 0, -1):\n",
    "    c[j] = z[j] - u[j] * c[j+1]\n",
    "    b[j] = (a[j+1] - a[j])/h[j] - h[j]*(c[j+1] + 2*c[j])/3\n",
    "    d[j] = (c[j+1] - c[j])/(3*h[j])\n",
    "    j = j - 1\n"
   ]
  },
  {
   "cell_type": "code",
   "execution_count": 55,
   "metadata": {
    "scrolled": false
   },
   "outputs": [
    {
     "data": {
      "text/plain": [
       "[1.3,\n",
       " 1.5,\n",
       " 1.85,\n",
       " 2.1,\n",
       " 2.6,\n",
       " 2.7,\n",
       " 2.4,\n",
       " 2.15,\n",
       " 2.05,\n",
       " 2.1,\n",
       " 2.25,\n",
       " 2.3,\n",
       " 2.25,\n",
       " 1.95,\n",
       " 1.4,\n",
       " 0.9,\n",
       " 0.7,\n",
       " 0.6,\n",
       " 0.5,\n",
       " 0.4,\n",
       " 0.25]"
      ]
     },
     "execution_count": 55,
     "metadata": {},
     "output_type": "execute_result"
    }
   ],
   "source": [
    "a"
   ]
  },
  {
   "cell_type": "code",
   "execution_count": 56,
   "metadata": {},
   "outputs": [
    {
     "data": {
      "text/plain": [
       "[None,\n",
       " -0.8105056793643645,\n",
       " 0.13214913729855393,\n",
       " 0.751104193658642,\n",
       " -0.46310219885688736,\n",
       " -0.8281598834865636,\n",
       " -1.887480809909339,\n",
       " -2.1677486561228534,\n",
       " -1.3973824811279334,\n",
       " 0.07394524730125268,\n",
       " -0.48291720618440415,\n",
       " -0.4922764225636369,\n",
       " -0.7313104368943817,\n",
       " -0.9138100628960495,\n",
       " -1.9402692005283146,\n",
       " -2.1328507098837446,\n",
       " -1.860184597621595,\n",
       " -1.058670931254246,\n",
       " -1.791368447296377,\n",
       " -1.906324554842568,\n",
       " None]"
      ]
     },
     "execution_count": 56,
     "metadata": {},
     "output_type": "execute_result"
    }
   ],
   "source": [
    "b"
   ]
  },
  {
   "cell_type": "code",
   "execution_count": 57,
   "metadata": {},
   "outputs": [
    {
     "data": {
      "text/plain": [
       "[None,\n",
       " -0.8518962976163675,\n",
       " 8.672987658721228,\n",
       " -0.5782123769207942,\n",
       " 2.649799591889736,\n",
       " 0.048667307647185964,\n",
       " 1.5520872185497276,\n",
       " 5.220710422356574,\n",
       " 7.90273238318206,\n",
       " -0.16497328841810163,\n",
       " 0.558110834932445,\n",
       " 0.4825299486883221,\n",
       " 0.36176937031426715,\n",
       " 0.4797373516074201,\n",
       " 0.17298638867545113,\n",
       " 4.586286724630275,\n",
       " 5.489266982910251,\n",
       " 1.0978505163414516,\n",
       " 2.264320290254995,\n",
       " 7.031622774212829,\n",
       " 0]"
      ]
     },
     "execution_count": 57,
     "metadata": {},
     "output_type": "execute_result"
    }
   ],
   "source": [
    "c"
   ]
  },
  {
   "cell_type": "code",
   "execution_count": 58,
   "metadata": {},
   "outputs": [
    {
     "data": {
      "text/plain": [
       "[None,\n",
       " 5.291602197965331,\n",
       " -15.418666726070022,\n",
       " 2.15200797920702,\n",
       " -2.1676102368687924,\n",
       " 0.5568221892231636,\n",
       " 2.4457488025378953,\n",
       " 2.980024400917208,\n",
       " -8.964117412889072,\n",
       " 0.24102804111684886,\n",
       " -0.025193628748040948,\n",
       " -0.04025352612468499,\n",
       " 0.0327688836925425,\n",
       " -0.07865409305947918,\n",
       " 1.8388751399811751,\n",
       " 1.0033113980888653,\n",
       " -3.659513722140663,\n",
       " 0.6480387632853022,\n",
       " 3.9727520699648586,\n",
       " -7.812914193569792,\n",
       " None]"
      ]
     },
     "execution_count": 58,
     "metadata": {},
     "output_type": "execute_result"
    }
   ],
   "source": [
    "d"
   ]
  },
  {
   "cell_type": "code",
   "execution_count": null,
   "metadata": {},
   "outputs": [],
   "source": []
  }
 ],
 "metadata": {
  "kernelspec": {
   "display_name": "Python 3",
   "language": "python",
   "name": "python3"
  },
  "language_info": {
   "codemirror_mode": {
    "name": "ipython",
    "version": 3
   },
   "file_extension": ".py",
   "mimetype": "text/x-python",
   "name": "python",
   "nbconvert_exporter": "python",
   "pygments_lexer": "ipython3",
   "version": "3.6.4"
  }
 },
 "nbformat": 4,
 "nbformat_minor": 2
}
