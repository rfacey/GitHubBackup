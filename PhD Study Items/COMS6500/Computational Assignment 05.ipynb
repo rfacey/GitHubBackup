{
 "cells": [
  {
   "cell_type": "markdown",
   "metadata": {},
   "source": [
    "## Page 335 Table 5.19"
   ]
  },
  {
   "cell_type": "code",
   "execution_count": 1,
   "metadata": {},
   "outputs": [],
   "source": [
    "import math\n",
    "import numpy as np"
   ]
  },
  {
   "cell_type": "code",
   "execution_count": 2,
   "metadata": {},
   "outputs": [],
   "source": [
    "def f1(t,x1, x2):\n",
    "    return -4.0 * x1 + 3.0 * x2 + 6.0\n",
    "\n",
    "def f2(t,x1, x2):\n",
    "    return -2.4 * x1 + 1.6 * x2 + 3.6 "
   ]
  },
  {
   "cell_type": "code",
   "execution_count": 3,
   "metadata": {},
   "outputs": [],
   "source": [
    "def RungeKuttaSDE_Q1(a, b, n, alpha1, alpha2):\n",
    "    k1a = [0.0] * n\n",
    "    k2a = [0.0] * n\n",
    "    k3a = [0.0] * n\n",
    "    k4a = [0.0] * n\n",
    "    \n",
    "    w1 = [0.0] * (n + 1)\n",
    "    w2 = [0.0] * (n + 1)\n",
    "    \n",
    "    k1b = [0.0] * n\n",
    "    k2b = [0.0] * n\n",
    "    k3b = [0.0] * n\n",
    "    k4b = [0.0] * n\n",
    "    \n",
    "    h = (b - a)/n\n",
    "    t = a\n",
    "    \n",
    "    tList = [0.0] * n\n",
    "    \n",
    "    w1[0] = alpha1\n",
    "    w2[0] = alpha2\n",
    "    \n",
    "    for i in range(0, n): \n",
    "        k1a[i] = h * f1(t,w1[i], w2[i]) \n",
    "        k1b[i] = h * f2(t,w1[i], w2[i]) \n",
    "        \n",
    "        k2a[i] = h * f1((t + h/2.0), (w1[i] + k1a[i]/2.0), (w2[i] + k1b[i]/2.0)) \n",
    "        k2b[i] = h * f2((t + h/2.0), (w1[i] + k1a[i]/2.0), (w2[i] + k1b[i]/2.0)) \n",
    "        \n",
    "        k3a[i] = h * f1((t + h/2.0), (w1[i] + k2a[i]/2.0), (w2[i] + k2b[i]/2.0))\n",
    "        k3b[i] = h * f2((t + h/2.0), (w1[i] + k2a[i]/2.0), (w2[i] + k2b[i]/2.0))\n",
    "        \n",
    "        k4a[i] = h * f1((t + h), (w1[i] + k3a[i]), (w2[i] + k3b[i])) \n",
    "        k4b[i] = h * f2((t + h), (w1[i] + k3a[i]), (w2[i] + k3b[i])) \n",
    "        \n",
    "        \n",
    "        w1[i + 1] = w1[i] + (k1a[i] + (2.0 * k2a[i]) + (2.0 * k3a[i]) + k4a[i])/6.0\n",
    "        w2[i + 1] = w2[i] + (k1b[i] + (2.0 * k2b[i]) + (2.0 * k3b[i]) + k4b[i])/6.0\n",
    "        \n",
    "        t = a + (i * h)\n",
    "        \n",
    "        tList[i] = round(t,2)\n",
    "        \n",
    "    return (tList[:n], w1[:n], w2[:n])"
   ]
  },
  {
   "cell_type": "code",
   "execution_count": 4,
   "metadata": {
    "scrolled": true
   },
   "outputs": [],
   "source": [
    "tList, w1, w2 = RungeKuttaSDE_Q1(0.0, 0.6, 6, 0, 0)"
   ]
  },
  {
   "cell_type": "code",
   "execution_count": 5,
   "metadata": {},
   "outputs": [
    {
     "data": {
      "text/plain": [
       "[0.0, 0.1, 0.2, 0.3, 0.4, 0.5]"
      ]
     },
     "execution_count": 5,
     "metadata": {},
     "output_type": "execute_result"
    }
   ],
   "source": [
    "tList"
   ]
  },
  {
   "cell_type": "code",
   "execution_count": 6,
   "metadata": {},
   "outputs": [
    {
     "data": {
      "text/plain": [
       "[0,\n",
       " 0.5382551999999999,\n",
       " 0.9684987375290879,\n",
       " 1.310719039205257,\n",
       " 1.5812652389631423,\n",
       " 1.793507490120283]"
      ]
     },
     "execution_count": 6,
     "metadata": {},
     "output_type": "execute_result"
    }
   ],
   "source": [
    "w1"
   ]
  },
  {
   "cell_type": "code",
   "execution_count": 7,
   "metadata": {},
   "outputs": [
    {
     "data": {
      "text/plain": [
       "[0,\n",
       " 0.31962624,\n",
       " 0.5687821730349056,\n",
       " 0.7607331318681753,\n",
       " 0.9063206179489272,\n",
       " 1.0144024167698833]"
      ]
     },
     "execution_count": 7,
     "metadata": {},
     "output_type": "execute_result"
    }
   ],
   "source": [
    "w2"
   ]
  },
  {
   "cell_type": "markdown",
   "metadata": {},
   "source": [
    "## Page 337 Table 5.20"
   ]
  },
  {
   "cell_type": "code",
   "execution_count": 8,
   "metadata": {},
   "outputs": [],
   "source": [
    "def f1(t,x1, x2):\n",
    "    return x2\n",
    "\n",
    "def f2(t,x1, x2):\n",
    "    return math.exp(2.0 * t) * math.sin(t) - 2.0 * x1 + 2.0 * x2"
   ]
  },
  {
   "cell_type": "code",
   "execution_count": 9,
   "metadata": {},
   "outputs": [],
   "source": [
    "def f1_Actual(t):\n",
    "    return 0.2 * math.exp(2.0 * t) * (math.sin(t) - 2 * math.cos(t))\n",
    "\n",
    "def f2_Actual(t):\n",
    "    return 0.2 * math.exp(2.0 * t) * (4.0 * math.sin(t) - 3.0 * math.cos(t))"
   ]
  },
  {
   "cell_type": "code",
   "execution_count": 10,
   "metadata": {},
   "outputs": [],
   "source": [
    "def RungeKuttaSDE_Q2(a, b, n, alpha1, alpha2):\n",
    "    k1a = [0.0] * n\n",
    "    k2a = [0.0] * n\n",
    "    k3a = [0.0] * n\n",
    "    k4a = [0.0] * n\n",
    "    \n",
    "    w1 = [0.0] * (n + 1)\n",
    "    w2 = [0.0] * (n + 1)\n",
    "    \n",
    "    k1b = [0.0] * n\n",
    "    k2b = [0.0] * n\n",
    "    k3b = [0.0] * n\n",
    "    k4b = [0.0] * n\n",
    "    \n",
    "    func1Results = [0.0] * n\n",
    "    func2Results = [0.0] * n\n",
    "    \n",
    "    func1Diff = [0.0] * n\n",
    "    func2Diff = [0.0] * n\n",
    "    \n",
    "    h = (b - a)/n\n",
    "    t = a\n",
    "    \n",
    "    tList = [0.0] * n\n",
    "    \n",
    "    w1[0] = alpha1\n",
    "    w2[0] = alpha2\n",
    "    \n",
    "    for i in range(0, n): \n",
    "        k1a[i] = h * f1(t,w1[i], w2[i]) \n",
    "        k1b[i] = h * f2(t,w1[i], w2[i]) \n",
    "        \n",
    "        k2a[i] = h * f1((t + h/2.0), (w1[i] + k1a[i]/2.0), (w2[i] + k1b[i]/2.0)) \n",
    "        k2b[i] = h * f2((t + h/2.0), (w1[i] + k1a[i]/2.0), (w2[i] + k1b[i]/2.0)) \n",
    "        \n",
    "        k3a[i] = h * f1((t + h/2.0), (w1[i] + k2a[i]/2.0), (w2[i] + k2b[i]/2.0))\n",
    "        k3b[i] = h * f2((t + h/2.0), (w1[i] + k2a[i]/2.0), (w2[i] + k2b[i]/2.0))\n",
    "        \n",
    "        k4a[i] = h * f1((t + h), (w1[i] + k3a[i]), (w2[i] + k3b[i])) \n",
    "        k4b[i] = h * f2((t + h), (w1[i] + k3a[i]), (w2[i] + k3b[i])) \n",
    "        \n",
    "        \n",
    "        w1[i + 1] = w1[i] + (k1a[i] + (2.0 * k2a[i]) + (2.0 * k3a[i]) + k4a[i])/6.0\n",
    "        w2[i + 1] = w2[i] + (k1b[i] + (2.0 * k2b[i]) + (2.0 * k3b[i]) + k4b[i])/6.0\n",
    "        \n",
    "        t = a + (i * h)\n",
    "        \n",
    "        tList[i] = round(t,1)\n",
    "        \n",
    "        func1Results[i] = f1_Actual(t)\n",
    "        func2Results[i] = f2_Actual(t)\n",
    "        \n",
    "        func1Diff[i] = abs(func1Results[i] - w1[i])\n",
    "        func2Diff[i] = abs(func2Results[i] - w2[i])\n",
    "        \n",
    "    return (tList[:n], func1Results[:n], w1[:n], func2Results[:n], w2[:n], func1Diff[:n], func2Diff[:n])"
   ]
  },
  {
   "cell_type": "code",
   "execution_count": 11,
   "metadata": {},
   "outputs": [],
   "source": [
    "tList, func1Results, w1, func2Results, w2, func1Diff, func2Diff = RungeKuttaSDE_Q2(0.0, 1.1, 11, -0.4, -0.6)"
   ]
  },
  {
   "cell_type": "code",
   "execution_count": 12,
   "metadata": {},
   "outputs": [
    {
     "data": {
      "text/plain": [
       "[0.0, 0.1, 0.2, 0.3, 0.4, 0.5, 0.6, 0.7, 0.8, 0.9, 1.0]"
      ]
     },
     "execution_count": 12,
     "metadata": {},
     "output_type": "execute_result"
    }
   ],
   "source": [
    "tList"
   ]
  },
  {
   "cell_type": "code",
   "execution_count": 13,
   "metadata": {},
   "outputs": [
    {
     "data": {
      "text/plain": [
       "[-0.4,\n",
       " -0.46173297065077745,\n",
       " -0.5255590475937428,\n",
       " -0.5886000461233488,\n",
       " -0.6466102840938321,\n",
       " -0.6935639464462552,\n",
       " -0.7211484905565834,\n",
       " -0.7181488962215788,\n",
       " -0.6697067730635202,\n",
       " -0.556438136834108,\n",
       " -0.3533943569029151]"
      ]
     },
     "execution_count": 13,
     "metadata": {},
     "output_type": "execute_result"
    }
   ],
   "source": [
    "func1Results"
   ]
  },
  {
   "cell_type": "code",
   "execution_count": 14,
   "metadata": {},
   "outputs": [
    {
     "data": {
      "text/plain": [
       "[-0.4,\n",
       " -0.4617333423313103,\n",
       " -0.5262971471689236,\n",
       " -0.5921537346739594,\n",
       " -0.6562028315998559,\n",
       " -0.7139500885203098,\n",
       " -0.759094054129381,\n",
       " -0.7830196995978596,\n",
       " -0.7741834068375281,\n",
       " -0.717373554157506,\n",
       " -0.5928306418610831]"
      ]
     },
     "execution_count": 14,
     "metadata": {},
     "output_type": "execute_result"
    }
   ],
   "source": [
    "w1"
   ]
  },
  {
   "cell_type": "code",
   "execution_count": 15,
   "metadata": {},
   "outputs": [
    {
     "data": {
      "text/plain": [
       "[-0.6000000000000001,\n",
       " -0.6316310507516716,\n",
       " -0.6401486642186465,\n",
       " -0.6136636069585657,\n",
       " -0.5365821965839523,\n",
       " -0.388739054825885,\n",
       " -0.14438322022753577,\n",
       " 0.22899242763115088,\n",
       " 0.7719838294360526,\n",
       " 1.5347686210660054,\n",
       " 2.578746620829612]"
      ]
     },
     "execution_count": 15,
     "metadata": {},
     "output_type": "execute_result"
    }
   ],
   "source": [
    "func2Results"
   ]
  },
  {
   "cell_type": "code",
   "execution_count": 16,
   "metadata": {},
   "outputs": [
    {
     "data": {
      "text/plain": [
       "[-0.6,\n",
       " -0.6316312421166997,\n",
       " -0.6562820270160954,\n",
       " -0.6557289070515501,\n",
       " -0.6178202537682936,\n",
       " -0.5266938865583847,\n",
       " -0.36191440618428083,\n",
       " -0.09746493531136907,\n",
       " 0.29941667454143495,\n",
       " 0.8695624608788612,\n",
       " 1.6633578196164158]"
      ]
     },
     "execution_count": 16,
     "metadata": {},
     "output_type": "execute_result"
    }
   ],
   "source": [
    "w2"
   ]
  },
  {
   "cell_type": "code",
   "execution_count": 17,
   "metadata": {},
   "outputs": [
    {
     "data": {
      "text/plain": [
       "[0.0,\n",
       " 3.71680532851304e-07,\n",
       " 0.000738099575180784,\n",
       " 0.0035536885506105564,\n",
       " 0.009592547506023785,\n",
       " 0.020386142074054647,\n",
       " 0.03794556357279766,\n",
       " 0.0648708033762807,\n",
       " 0.10447663377400784,\n",
       " 0.160935417323398,\n",
       " 0.23943628495816804]"
      ]
     },
     "execution_count": 17,
     "metadata": {},
     "output_type": "execute_result"
    }
   ],
   "source": [
    "func1Diff"
   ]
  },
  {
   "cell_type": "code",
   "execution_count": 18,
   "metadata": {},
   "outputs": [
    {
     "data": {
      "text/plain": [
       "[1.1102230246251565e-16,\n",
       " 1.9136502815708667e-07,\n",
       " 0.016133362797448925,\n",
       " 0.04206530009298437,\n",
       " 0.0812380571843413,\n",
       " 0.13795483173249967,\n",
       " 0.21753118595674506,\n",
       " 0.3264573629425199,\n",
       " 0.47256715489461765,\n",
       " 0.6652061601871442,\n",
       " 0.9153888012131961]"
      ]
     },
     "execution_count": 18,
     "metadata": {},
     "output_type": "execute_result"
    }
   ],
   "source": [
    "func2Diff"
   ]
  }
 ],
 "metadata": {
  "kernelspec": {
   "display_name": "Python 3",
   "language": "python",
   "name": "python3"
  },
  "language_info": {
   "codemirror_mode": {
    "name": "ipython",
    "version": 3
   },
   "file_extension": ".py",
   "mimetype": "text/x-python",
   "name": "python",
   "nbconvert_exporter": "python",
   "pygments_lexer": "ipython3",
   "version": "3.6.4"
  }
 },
 "nbformat": 4,
 "nbformat_minor": 2
}
